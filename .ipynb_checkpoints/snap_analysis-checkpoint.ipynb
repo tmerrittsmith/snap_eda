{
 "cells": [
  {
   "cell_type": "markdown",
   "metadata": {},
   "source": [
    "\n",
    "<h1 id=\"How-to-catch-an-alligator\">How to catch an alligator<a class=\"anchor-link\" href=\"#How-to-catch-an-alligator\">¶</a></h1><h2 id=\"Getting-strategic-in-the-Statewide-Nuisance-Alligator-Program-(SNAP)\">Getting strategic in the Statewide Nuisance Alligator Program (SNAP)<a class=\"anchor-link\" href=\"#Getting-strategic-in-the-Statewide-Nuisance-Alligator-Program-(SNAP)\">¶</a></h2>\n"
   ]
  },
  {
   "cell_type": "markdown",
   "metadata": {},
   "source": [
    "\n",
    "<h3 id=\"Preamble\">Preamble<a class=\"anchor-link\" href=\"#Preamble\">¶</a></h3><p>Florida Fish and Wildlife Conservation Commission's Statewide Alligator Harvest data between 2000 and 2016 is available at: <a href=\"http://myfwc.com/wildlifehabitats/managed/alligator/harvest/data-export/\">http://myfwc.com/wildlifehabitats/managed/alligator/harvest/data-export/</a></p>\n",
    "<p>All the analysis below is written in the python3 programming language.</p>\n",
    "<p>I was first made aware of the dataset by Jeremy Singer-Vine, through his data is plural newsletter of curious and interesting datasets: <a href=\"https://tinyletter.com/data-is-plural\">https://tinyletter.com/data-is-plural</a></p>\n",
    "<p>Extra shoutout to LaTosha from FWC for your help in trying to link the data with some GISdata. I'd love to map some of this data out, but will leave that to the interested reader!</p>\n"
   ]
  },
  {
   "cell_type": "markdown",
   "metadata": {},
   "source": [
    "\n",
    "<h4 id=\"Introduction:\">Introduction:<a class=\"anchor-link\" href=\"#Introduction:\">¶</a></h4><p>The analysis is set out in three parts:</p>\n",
    "<ol>\n",
    "<li>Clean the data (including converting the Carcass Size measurements to metric - sorry 'bout that US readers!)</li>\n",
    "<li>Explore the time-related fields to identify 'a good time to go hunting'</li>\n",
    "<li>Explore the location-related fields to identify 'a good place to go hunting'</li>\n",
    "</ol>\n",
    "<p>(Step 4. would be to fly out to Florida and test out my theories... #sponsorme!)</p>\n"
   ]
  },
  {
   "cell_type": "code",
   "execution_count": 1,
   "metadata": {},
   "outputs": [],
   "source": [
    "import seaborn as sns\n",
    "import pandas as pd\n",
    "import numpy as np\n",
    "from copy import deepcopy\n",
    "import matplotlib.pyplot as plt\n",
    "import matplotlib.pylab as pylab\n",
    "import re\n",
    "pylab.rcParams['figure.figsize'] = 30, 20\n",
    "%matplotlib inline\n",
    "\n"
   ]
  },
  {
   "cell_type": "code",
   "execution_count": 2,
   "metadata": {},
   "outputs": [],
   "source": [
    "raw_data = pd.read_csv('FWCAlligatorHarvestData.csv')\n",
    "clean_data = deepcopy(raw_data)"
   ]
  },
  {
   "cell_type": "code",
   "execution_count": 3,
   "metadata": {},
   "outputs": [
    {
     "data": {
      "text/html": [
       "<div>\n",
       "<style scoped>\n",
       "    .dataframe tbody tr th:only-of-type {\n",
       "        vertical-align: middle;\n",
       "    }\n",
       "\n",
       "    .dataframe tbody tr th {\n",
       "        vertical-align: top;\n",
       "    }\n",
       "\n",
       "    .dataframe thead th {\n",
       "        text-align: right;\n",
       "    }\n",
       "</style>\n",
       "<table border=\"1\" class=\"dataframe\">\n",
       "  <thead>\n",
       "    <tr style=\"text-align: right;\">\n",
       "      <th></th>\n",
       "      <th>Year</th>\n",
       "      <th>Area Number</th>\n",
       "      <th>Area Name</th>\n",
       "      <th>Carcass Size</th>\n",
       "      <th>Harvest Date</th>\n",
       "      <th>Location</th>\n",
       "    </tr>\n",
       "  </thead>\n",
       "  <tbody>\n",
       "    <tr>\n",
       "      <th>1</th>\n",
       "      <td>2000</td>\n",
       "      <td>101</td>\n",
       "      <td>LAKE PIERCE</td>\n",
       "      <td>9 ft. 0 in.</td>\n",
       "      <td>10-02-2000</td>\n",
       "      <td>NaN</td>\n",
       "    </tr>\n",
       "    <tr>\n",
       "      <th>2</th>\n",
       "      <td>2000</td>\n",
       "      <td>101</td>\n",
       "      <td>LAKE PIERCE</td>\n",
       "      <td>8 ft. 10 in.</td>\n",
       "      <td>10-06-2000</td>\n",
       "      <td>NaN</td>\n",
       "    </tr>\n",
       "    <tr>\n",
       "      <th>3</th>\n",
       "      <td>2000</td>\n",
       "      <td>101</td>\n",
       "      <td>LAKE PIERCE</td>\n",
       "      <td>8 ft. 0 in.</td>\n",
       "      <td>09-25-2000</td>\n",
       "      <td>NaN</td>\n",
       "    </tr>\n",
       "    <tr>\n",
       "      <th>4</th>\n",
       "      <td>2000</td>\n",
       "      <td>101</td>\n",
       "      <td>LAKE PIERCE</td>\n",
       "      <td>8 ft. 0 in.</td>\n",
       "      <td>10-07-2000</td>\n",
       "      <td>NaN</td>\n",
       "    </tr>\n",
       "    <tr>\n",
       "      <th>5</th>\n",
       "      <td>2000</td>\n",
       "      <td>101</td>\n",
       "      <td>LAKE PIERCE</td>\n",
       "      <td>8 ft. 0 in.</td>\n",
       "      <td>09-22-2000</td>\n",
       "      <td>NaN</td>\n",
       "    </tr>\n",
       "    <tr>\n",
       "      <th>6</th>\n",
       "      <td>2000</td>\n",
       "      <td>101</td>\n",
       "      <td>LAKE PIERCE</td>\n",
       "      <td>7 ft. 2 in.</td>\n",
       "      <td>09-21-2000</td>\n",
       "      <td>NaN</td>\n",
       "    </tr>\n",
       "    <tr>\n",
       "      <th>7</th>\n",
       "      <td>2000</td>\n",
       "      <td>101</td>\n",
       "      <td>LAKE PIERCE</td>\n",
       "      <td>7 ft. 1 in.</td>\n",
       "      <td>09-21-2000</td>\n",
       "      <td>NaN</td>\n",
       "    </tr>\n",
       "    <tr>\n",
       "      <th>8</th>\n",
       "      <td>2000</td>\n",
       "      <td>101</td>\n",
       "      <td>LAKE PIERCE</td>\n",
       "      <td>6 ft. 11 in.</td>\n",
       "      <td>09-25-2000</td>\n",
       "      <td>NaN</td>\n",
       "    </tr>\n",
       "    <tr>\n",
       "      <th>9</th>\n",
       "      <td>2000</td>\n",
       "      <td>101</td>\n",
       "      <td>LAKE PIERCE</td>\n",
       "      <td>6 ft. 7 in.</td>\n",
       "      <td>09-25-2000</td>\n",
       "      <td>NaN</td>\n",
       "    </tr>\n",
       "    <tr>\n",
       "      <th>10</th>\n",
       "      <td>2000</td>\n",
       "      <td>101</td>\n",
       "      <td>LAKE PIERCE</td>\n",
       "      <td>6 ft. 6 in.</td>\n",
       "      <td>09-15-2000</td>\n",
       "      <td>NaN</td>\n",
       "    </tr>\n",
       "    <tr>\n",
       "      <th>11</th>\n",
       "      <td>2000</td>\n",
       "      <td>101</td>\n",
       "      <td>LAKE PIERCE</td>\n",
       "      <td>6 ft. 3 in.</td>\n",
       "      <td>10-07-2000</td>\n",
       "      <td>NaN</td>\n",
       "    </tr>\n",
       "    <tr>\n",
       "      <th>12</th>\n",
       "      <td>2000</td>\n",
       "      <td>102</td>\n",
       "      <td>LAKE MARIAN</td>\n",
       "      <td>12 ft. 7 in.</td>\n",
       "      <td>09-04-2000</td>\n",
       "      <td>NaN</td>\n",
       "    </tr>\n",
       "    <tr>\n",
       "      <th>13</th>\n",
       "      <td>2000</td>\n",
       "      <td>102</td>\n",
       "      <td>LAKE MARIAN</td>\n",
       "      <td>12 ft. 3 in.</td>\n",
       "      <td>09-10-2000</td>\n",
       "      <td>NaN</td>\n",
       "    </tr>\n",
       "    <tr>\n",
       "      <th>14</th>\n",
       "      <td>2000</td>\n",
       "      <td>102</td>\n",
       "      <td>LAKE MARIAN</td>\n",
       "      <td>12 ft. 3 in.</td>\n",
       "      <td>09-03-2000</td>\n",
       "      <td>NaN</td>\n",
       "    </tr>\n",
       "    <tr>\n",
       "      <th>15</th>\n",
       "      <td>2000</td>\n",
       "      <td>102</td>\n",
       "      <td>LAKE MARIAN</td>\n",
       "      <td>12 ft. 2 in.</td>\n",
       "      <td>09-25-2000</td>\n",
       "      <td>NaN</td>\n",
       "    </tr>\n",
       "    <tr>\n",
       "      <th>16</th>\n",
       "      <td>2000</td>\n",
       "      <td>102</td>\n",
       "      <td>LAKE MARIAN</td>\n",
       "      <td>12 ft. 0 in.</td>\n",
       "      <td>09-27-2000</td>\n",
       "      <td>NaN</td>\n",
       "    </tr>\n",
       "    <tr>\n",
       "      <th>17</th>\n",
       "      <td>2000</td>\n",
       "      <td>102</td>\n",
       "      <td>LAKE MARIAN</td>\n",
       "      <td>11 ft. 10 in.</td>\n",
       "      <td>09-09-2000</td>\n",
       "      <td>NaN</td>\n",
       "    </tr>\n",
       "    <tr>\n",
       "      <th>18</th>\n",
       "      <td>2000</td>\n",
       "      <td>102</td>\n",
       "      <td>LAKE MARIAN</td>\n",
       "      <td>11 ft. 7 in.</td>\n",
       "      <td>09-10-2000</td>\n",
       "      <td>NaN</td>\n",
       "    </tr>\n",
       "    <tr>\n",
       "      <th>19</th>\n",
       "      <td>2000</td>\n",
       "      <td>102</td>\n",
       "      <td>LAKE MARIAN</td>\n",
       "      <td>11 ft. 1 in.</td>\n",
       "      <td>10-07-2000</td>\n",
       "      <td>NaN</td>\n",
       "    </tr>\n",
       "    <tr>\n",
       "      <th>20</th>\n",
       "      <td>2000</td>\n",
       "      <td>102</td>\n",
       "      <td>LAKE MARIAN</td>\n",
       "      <td>11 ft. 1 in.</td>\n",
       "      <td>10-07-2000</td>\n",
       "      <td>NaN</td>\n",
       "    </tr>\n",
       "  </tbody>\n",
       "</table>\n",
       "</div>"
      ],
      "text/plain": [
       "    Year  Area Number    Area Name   Carcass Size Harvest Date Location\n",
       "1   2000          101  LAKE PIERCE    9 ft. 0 in.   10-02-2000      NaN\n",
       "2   2000          101  LAKE PIERCE   8 ft. 10 in.   10-06-2000      NaN\n",
       "3   2000          101  LAKE PIERCE    8 ft. 0 in.   09-25-2000      NaN\n",
       "4   2000          101  LAKE PIERCE    8 ft. 0 in.   10-07-2000      NaN\n",
       "5   2000          101  LAKE PIERCE    8 ft. 0 in.   09-22-2000      NaN\n",
       "6   2000          101  LAKE PIERCE    7 ft. 2 in.   09-21-2000      NaN\n",
       "7   2000          101  LAKE PIERCE    7 ft. 1 in.   09-21-2000      NaN\n",
       "8   2000          101  LAKE PIERCE   6 ft. 11 in.   09-25-2000      NaN\n",
       "9   2000          101  LAKE PIERCE    6 ft. 7 in.   09-25-2000      NaN\n",
       "10  2000          101  LAKE PIERCE    6 ft. 6 in.   09-15-2000      NaN\n",
       "11  2000          101  LAKE PIERCE    6 ft. 3 in.   10-07-2000      NaN\n",
       "12  2000          102  LAKE MARIAN   12 ft. 7 in.   09-04-2000      NaN\n",
       "13  2000          102  LAKE MARIAN   12 ft. 3 in.   09-10-2000      NaN\n",
       "14  2000          102  LAKE MARIAN   12 ft. 3 in.   09-03-2000      NaN\n",
       "15  2000          102  LAKE MARIAN   12 ft. 2 in.   09-25-2000      NaN\n",
       "16  2000          102  LAKE MARIAN   12 ft. 0 in.   09-27-2000      NaN\n",
       "17  2000          102  LAKE MARIAN  11 ft. 10 in.   09-09-2000      NaN\n",
       "18  2000          102  LAKE MARIAN   11 ft. 7 in.   09-10-2000      NaN\n",
       "19  2000          102  LAKE MARIAN   11 ft. 1 in.   10-07-2000      NaN\n",
       "20  2000          102  LAKE MARIAN   11 ft. 1 in.   10-07-2000      NaN"
      ]
     },
     "execution_count": 3,
     "metadata": {},
     "output_type": "execute_result"
    }
   ],
   "source": [
    "raw_data.loc[1:20]"
   ]
  },
  {
   "cell_type": "code",
   "execution_count": 4,
   "metadata": {},
   "outputs": [
    {
     "data": {
      "text/plain": [
       "(87182, 6)"
      ]
     },
     "execution_count": 4,
     "metadata": {},
     "output_type": "execute_result"
    }
   ],
   "source": [
    "raw_data.shape"
   ]
  },
  {
   "cell_type": "code",
   "execution_count": 5,
   "metadata": {},
   "outputs": [],
   "source": [
    "def metric_size_converter(size):\n",
    "    ## size is a string, with the measurements separated by spaces\n",
    "    ## split this string to pull out the actual measurements\n",
    "    \n",
    "    string_list = size.split()\n",
    "    feet = float(string_list[0])\n",
    "    inches = float(string_list[2])\n",
    "\n",
    "    ## convert feet and inches into metres\n",
    "    metres = (feet*12 + inches)*2.54/100\n",
    "    \n",
    "    return metres"
   ]
  },
  {
   "cell_type": "code",
   "execution_count": 6,
   "metadata": {},
   "outputs": [],
   "source": [
    "clean_data['Carcass Size'] = clean_data['Carcass Size'].apply(lambda x: metric_size_converter(x))\n",
    "\n"
   ]
  },
  {
   "cell_type": "code",
   "execution_count": 7,
   "metadata": {},
   "outputs": [
    {
     "data": {
      "text/html": [
       "<div>\n",
       "<style scoped>\n",
       "    .dataframe tbody tr th:only-of-type {\n",
       "        vertical-align: middle;\n",
       "    }\n",
       "\n",
       "    .dataframe tbody tr th {\n",
       "        vertical-align: top;\n",
       "    }\n",
       "\n",
       "    .dataframe thead th {\n",
       "        text-align: right;\n",
       "    }\n",
       "</style>\n",
       "<table border=\"1\" class=\"dataframe\">\n",
       "  <thead>\n",
       "    <tr style=\"text-align: right;\">\n",
       "      <th></th>\n",
       "      <th>Year</th>\n",
       "      <th>Area Number</th>\n",
       "      <th>Area Name</th>\n",
       "      <th>Carcass Size</th>\n",
       "      <th>Harvest Date</th>\n",
       "      <th>Location</th>\n",
       "    </tr>\n",
       "  </thead>\n",
       "  <tbody>\n",
       "    <tr>\n",
       "      <th>0</th>\n",
       "      <td>2000</td>\n",
       "      <td>101</td>\n",
       "      <td>LAKE PIERCE</td>\n",
       "      <td>3.4798</td>\n",
       "      <td>09-22-2000</td>\n",
       "      <td>NaN</td>\n",
       "    </tr>\n",
       "    <tr>\n",
       "      <th>1</th>\n",
       "      <td>2000</td>\n",
       "      <td>101</td>\n",
       "      <td>LAKE PIERCE</td>\n",
       "      <td>2.7432</td>\n",
       "      <td>10-02-2000</td>\n",
       "      <td>NaN</td>\n",
       "    </tr>\n",
       "    <tr>\n",
       "      <th>2</th>\n",
       "      <td>2000</td>\n",
       "      <td>101</td>\n",
       "      <td>LAKE PIERCE</td>\n",
       "      <td>2.6924</td>\n",
       "      <td>10-06-2000</td>\n",
       "      <td>NaN</td>\n",
       "    </tr>\n",
       "    <tr>\n",
       "      <th>3</th>\n",
       "      <td>2000</td>\n",
       "      <td>101</td>\n",
       "      <td>LAKE PIERCE</td>\n",
       "      <td>2.4384</td>\n",
       "      <td>09-25-2000</td>\n",
       "      <td>NaN</td>\n",
       "    </tr>\n",
       "    <tr>\n",
       "      <th>4</th>\n",
       "      <td>2000</td>\n",
       "      <td>101</td>\n",
       "      <td>LAKE PIERCE</td>\n",
       "      <td>2.4384</td>\n",
       "      <td>10-07-2000</td>\n",
       "      <td>NaN</td>\n",
       "    </tr>\n",
       "  </tbody>\n",
       "</table>\n",
       "</div>"
      ],
      "text/plain": [
       "   Year  Area Number    Area Name  Carcass Size Harvest Date Location\n",
       "0  2000          101  LAKE PIERCE        3.4798   09-22-2000      NaN\n",
       "1  2000          101  LAKE PIERCE        2.7432   10-02-2000      NaN\n",
       "2  2000          101  LAKE PIERCE        2.6924   10-06-2000      NaN\n",
       "3  2000          101  LAKE PIERCE        2.4384   09-25-2000      NaN\n",
       "4  2000          101  LAKE PIERCE        2.4384   10-07-2000      NaN"
      ]
     },
     "execution_count": 7,
     "metadata": {},
     "output_type": "execute_result"
    }
   ],
   "source": [
    "clean_data.head()\n",
    "\n"
   ]
  },
  {
   "cell_type": "code",
   "execution_count": 8,
   "metadata": {},
   "outputs": [],
   "source": [
    "clean_data['Harvest_Date'] = pd.to_datetime(clean_data['Harvest Date'])\n",
    "\n"
   ]
  },
  {
   "cell_type": "code",
   "execution_count": 9,
   "metadata": {},
   "outputs": [
    {
     "data": {
      "text/html": [
       "<div>\n",
       "<style scoped>\n",
       "    .dataframe tbody tr th:only-of-type {\n",
       "        vertical-align: middle;\n",
       "    }\n",
       "\n",
       "    .dataframe tbody tr th {\n",
       "        vertical-align: top;\n",
       "    }\n",
       "\n",
       "    .dataframe thead th {\n",
       "        text-align: right;\n",
       "    }\n",
       "</style>\n",
       "<table border=\"1\" class=\"dataframe\">\n",
       "  <thead>\n",
       "    <tr style=\"text-align: right;\">\n",
       "      <th></th>\n",
       "      <th>Year</th>\n",
       "      <th>Area Number</th>\n",
       "      <th>Area Name</th>\n",
       "      <th>Carcass Size</th>\n",
       "      <th>Harvest Date</th>\n",
       "      <th>Location</th>\n",
       "      <th>Harvest_Date</th>\n",
       "    </tr>\n",
       "  </thead>\n",
       "  <tbody>\n",
       "    <tr>\n",
       "      <th>0</th>\n",
       "      <td>2000</td>\n",
       "      <td>101</td>\n",
       "      <td>LAKE PIERCE</td>\n",
       "      <td>3.4798</td>\n",
       "      <td>09-22-2000</td>\n",
       "      <td>NaN</td>\n",
       "      <td>2000-09-22</td>\n",
       "    </tr>\n",
       "    <tr>\n",
       "      <th>1</th>\n",
       "      <td>2000</td>\n",
       "      <td>101</td>\n",
       "      <td>LAKE PIERCE</td>\n",
       "      <td>2.7432</td>\n",
       "      <td>10-02-2000</td>\n",
       "      <td>NaN</td>\n",
       "      <td>2000-10-02</td>\n",
       "    </tr>\n",
       "    <tr>\n",
       "      <th>2</th>\n",
       "      <td>2000</td>\n",
       "      <td>101</td>\n",
       "      <td>LAKE PIERCE</td>\n",
       "      <td>2.6924</td>\n",
       "      <td>10-06-2000</td>\n",
       "      <td>NaN</td>\n",
       "      <td>2000-10-06</td>\n",
       "    </tr>\n",
       "    <tr>\n",
       "      <th>3</th>\n",
       "      <td>2000</td>\n",
       "      <td>101</td>\n",
       "      <td>LAKE PIERCE</td>\n",
       "      <td>2.4384</td>\n",
       "      <td>09-25-2000</td>\n",
       "      <td>NaN</td>\n",
       "      <td>2000-09-25</td>\n",
       "    </tr>\n",
       "    <tr>\n",
       "      <th>4</th>\n",
       "      <td>2000</td>\n",
       "      <td>101</td>\n",
       "      <td>LAKE PIERCE</td>\n",
       "      <td>2.4384</td>\n",
       "      <td>10-07-2000</td>\n",
       "      <td>NaN</td>\n",
       "      <td>2000-10-07</td>\n",
       "    </tr>\n",
       "  </tbody>\n",
       "</table>\n",
       "</div>"
      ],
      "text/plain": [
       "   Year  Area Number    Area Name  Carcass Size Harvest Date Location  \\\n",
       "0  2000          101  LAKE PIERCE        3.4798   09-22-2000      NaN   \n",
       "1  2000          101  LAKE PIERCE        2.7432   10-02-2000      NaN   \n",
       "2  2000          101  LAKE PIERCE        2.6924   10-06-2000      NaN   \n",
       "3  2000          101  LAKE PIERCE        2.4384   09-25-2000      NaN   \n",
       "4  2000          101  LAKE PIERCE        2.4384   10-07-2000      NaN   \n",
       "\n",
       "  Harvest_Date  \n",
       "0   2000-09-22  \n",
       "1   2000-10-02  \n",
       "2   2000-10-06  \n",
       "3   2000-09-25  \n",
       "4   2000-10-07  "
      ]
     },
     "execution_count": 9,
     "metadata": {},
     "output_type": "execute_result"
    }
   ],
   "source": [
    "clean_data.head()\n",
    "\n"
   ]
  },
  {
   "cell_type": "code",
   "execution_count": 10,
   "metadata": {},
   "outputs": [
    {
     "data": {
      "text/plain": [
       "264"
      ]
     },
     "execution_count": 10,
     "metadata": {},
     "output_type": "execute_result"
    }
   ],
   "source": [
    "# check for any null dates\n",
    "\n",
    "len(clean_data[pd.isnull(clean_data['Harvest_Date'])])\n",
    "\n"
   ]
  },
  {
   "cell_type": "code",
   "execution_count": 11,
   "metadata": {
    "scrolled": true
   },
   "outputs": [
    {
     "data": {
      "text/html": [
       "<div>\n",
       "<style scoped>\n",
       "    .dataframe tbody tr th:only-of-type {\n",
       "        vertical-align: middle;\n",
       "    }\n",
       "\n",
       "    .dataframe tbody tr th {\n",
       "        vertical-align: top;\n",
       "    }\n",
       "\n",
       "    .dataframe thead th {\n",
       "        text-align: right;\n",
       "    }\n",
       "</style>\n",
       "<table border=\"1\" class=\"dataframe\">\n",
       "  <thead>\n",
       "    <tr style=\"text-align: right;\">\n",
       "      <th></th>\n",
       "      <th>Year</th>\n",
       "      <th>Area Number</th>\n",
       "      <th>Area Name</th>\n",
       "      <th>Carcass Size</th>\n",
       "      <th>Harvest Date</th>\n",
       "      <th>Location</th>\n",
       "      <th>Harvest_Date</th>\n",
       "    </tr>\n",
       "  </thead>\n",
       "  <tbody>\n",
       "    <tr>\n",
       "      <th>163</th>\n",
       "      <td>2000</td>\n",
       "      <td>109</td>\n",
       "      <td>LAKE ISTOKPOGA</td>\n",
       "      <td>2.2352</td>\n",
       "      <td>NaN</td>\n",
       "      <td>NaN</td>\n",
       "      <td>NaT</td>\n",
       "    </tr>\n",
       "    <tr>\n",
       "      <th>208</th>\n",
       "      <td>2000</td>\n",
       "      <td>109</td>\n",
       "      <td>LAKE ISTOKPOGA</td>\n",
       "      <td>1.8542</td>\n",
       "      <td>NaN</td>\n",
       "      <td>NaN</td>\n",
       "      <td>NaT</td>\n",
       "    </tr>\n",
       "    <tr>\n",
       "      <th>251</th>\n",
       "      <td>2000</td>\n",
       "      <td>110</td>\n",
       "      <td>LAKE KISSIMMEE</td>\n",
       "      <td>3.2258</td>\n",
       "      <td>NaN</td>\n",
       "      <td>NaN</td>\n",
       "      <td>NaT</td>\n",
       "    </tr>\n",
       "    <tr>\n",
       "      <th>289</th>\n",
       "      <td>2000</td>\n",
       "      <td>110</td>\n",
       "      <td>LAKE KISSIMMEE</td>\n",
       "      <td>2.4384</td>\n",
       "      <td>NaN</td>\n",
       "      <td>NaN</td>\n",
       "      <td>NaT</td>\n",
       "    </tr>\n",
       "    <tr>\n",
       "      <th>827</th>\n",
       "      <td>2000</td>\n",
       "      <td>505</td>\n",
       "      <td>LAKE HARNEY</td>\n",
       "      <td>2.7432</td>\n",
       "      <td>NaN</td>\n",
       "      <td>NaN</td>\n",
       "      <td>NaT</td>\n",
       "    </tr>\n",
       "    <tr>\n",
       "      <th>1010</th>\n",
       "      <td>2000</td>\n",
       "      <td>520</td>\n",
       "      <td>LAKE TOHOPEKALIGA</td>\n",
       "      <td>3.1242</td>\n",
       "      <td>NaN</td>\n",
       "      <td>NaN</td>\n",
       "      <td>NaT</td>\n",
       "    </tr>\n",
       "    <tr>\n",
       "      <th>1019</th>\n",
       "      <td>2000</td>\n",
       "      <td>520</td>\n",
       "      <td>LAKE TOHOPEKALIGA</td>\n",
       "      <td>2.8448</td>\n",
       "      <td>NaN</td>\n",
       "      <td>NaN</td>\n",
       "      <td>NaT</td>\n",
       "    </tr>\n",
       "    <tr>\n",
       "      <th>1178</th>\n",
       "      <td>2000</td>\n",
       "      <td>601</td>\n",
       "      <td>LAKE OKEECHOBEE (WEST)</td>\n",
       "      <td>3.3528</td>\n",
       "      <td>NaN</td>\n",
       "      <td>NaN</td>\n",
       "      <td>NaT</td>\n",
       "    </tr>\n",
       "    <tr>\n",
       "      <th>1189</th>\n",
       "      <td>2000</td>\n",
       "      <td>601</td>\n",
       "      <td>LAKE OKEECHOBEE (WEST)</td>\n",
       "      <td>3.2766</td>\n",
       "      <td>NaN</td>\n",
       "      <td>NaN</td>\n",
       "      <td>NaT</td>\n",
       "    </tr>\n",
       "    <tr>\n",
       "      <th>1255</th>\n",
       "      <td>2000</td>\n",
       "      <td>601</td>\n",
       "      <td>LAKE OKEECHOBEE (WEST)</td>\n",
       "      <td>3.0480</td>\n",
       "      <td>NaN</td>\n",
       "      <td>NaN</td>\n",
       "      <td>NaT</td>\n",
       "    </tr>\n",
       "    <tr>\n",
       "      <th>1514</th>\n",
       "      <td>2000</td>\n",
       "      <td>602</td>\n",
       "      <td>LAKE OKEECHOBEE (NORTH)</td>\n",
       "      <td>3.7592</td>\n",
       "      <td>NaN</td>\n",
       "      <td>NaN</td>\n",
       "      <td>NaT</td>\n",
       "    </tr>\n",
       "    <tr>\n",
       "      <th>1583</th>\n",
       "      <td>2000</td>\n",
       "      <td>602</td>\n",
       "      <td>LAKE OKEECHOBEE (NORTH)</td>\n",
       "      <td>3.0480</td>\n",
       "      <td>NaN</td>\n",
       "      <td>NaN</td>\n",
       "      <td>NaT</td>\n",
       "    </tr>\n",
       "    <tr>\n",
       "      <th>1584</th>\n",
       "      <td>2000</td>\n",
       "      <td>602</td>\n",
       "      <td>LAKE OKEECHOBEE (NORTH)</td>\n",
       "      <td>3.0480</td>\n",
       "      <td>NaN</td>\n",
       "      <td>NaN</td>\n",
       "      <td>NaT</td>\n",
       "    </tr>\n",
       "    <tr>\n",
       "      <th>1640</th>\n",
       "      <td>2000</td>\n",
       "      <td>602</td>\n",
       "      <td>LAKE OKEECHOBEE (NORTH)</td>\n",
       "      <td>2.1082</td>\n",
       "      <td>NaN</td>\n",
       "      <td>NaN</td>\n",
       "      <td>NaT</td>\n",
       "    </tr>\n",
       "    <tr>\n",
       "      <th>1711</th>\n",
       "      <td>2000</td>\n",
       "      <td>604</td>\n",
       "      <td>LAKE OKEECHOBEE (SOUTH)</td>\n",
       "      <td>3.8608</td>\n",
       "      <td>NaN</td>\n",
       "      <td>NaN</td>\n",
       "      <td>NaT</td>\n",
       "    </tr>\n",
       "    <tr>\n",
       "      <th>1768</th>\n",
       "      <td>2000</td>\n",
       "      <td>604</td>\n",
       "      <td>LAKE OKEECHOBEE (SOUTH)</td>\n",
       "      <td>3.2766</td>\n",
       "      <td>NaN</td>\n",
       "      <td>NaN</td>\n",
       "      <td>NaT</td>\n",
       "    </tr>\n",
       "    <tr>\n",
       "      <th>2324</th>\n",
       "      <td>2000</td>\n",
       "      <td>722</td>\n",
       "      <td>ORANGE LAKE</td>\n",
       "      <td>2.6162</td>\n",
       "      <td>NaN</td>\n",
       "      <td>NaN</td>\n",
       "      <td>NaT</td>\n",
       "    </tr>\n",
       "    <tr>\n",
       "      <th>2756</th>\n",
       "      <td>2001</td>\n",
       "      <td>109</td>\n",
       "      <td>LAKE ISTOKPOGA</td>\n",
       "      <td>2.4638</td>\n",
       "      <td>NaN</td>\n",
       "      <td>NaN</td>\n",
       "      <td>NaT</td>\n",
       "    </tr>\n",
       "    <tr>\n",
       "      <th>2769</th>\n",
       "      <td>2001</td>\n",
       "      <td>109</td>\n",
       "      <td>LAKE ISTOKPOGA</td>\n",
       "      <td>2.3368</td>\n",
       "      <td>NaN</td>\n",
       "      <td>NaN</td>\n",
       "      <td>NaT</td>\n",
       "    </tr>\n",
       "    <tr>\n",
       "      <th>2792</th>\n",
       "      <td>2001</td>\n",
       "      <td>109</td>\n",
       "      <td>LAKE ISTOKPOGA</td>\n",
       "      <td>2.1844</td>\n",
       "      <td>NaN</td>\n",
       "      <td>NaN</td>\n",
       "      <td>NaT</td>\n",
       "    </tr>\n",
       "    <tr>\n",
       "      <th>3427</th>\n",
       "      <td>2001</td>\n",
       "      <td>502</td>\n",
       "      <td>ST. JOHNS RIVER (LAKE POINSETT)</td>\n",
       "      <td>1.8288</td>\n",
       "      <td>NaN</td>\n",
       "      <td>NaN</td>\n",
       "      <td>NaT</td>\n",
       "    </tr>\n",
       "    <tr>\n",
       "      <th>3827</th>\n",
       "      <td>2001</td>\n",
       "      <td>542</td>\n",
       "      <td>BLUE CYPRESS WATER MANAGEMENT AREA</td>\n",
       "      <td>2.9972</td>\n",
       "      <td>NaN</td>\n",
       "      <td>NaN</td>\n",
       "      <td>NaT</td>\n",
       "    </tr>\n",
       "    <tr>\n",
       "      <th>4807</th>\n",
       "      <td>2001</td>\n",
       "      <td>751</td>\n",
       "      <td>LAKE GEORGE</td>\n",
       "      <td>1.4732</td>\n",
       "      <td>NaN</td>\n",
       "      <td>NaN</td>\n",
       "      <td>NaT</td>\n",
       "    </tr>\n",
       "    <tr>\n",
       "      <th>4883</th>\n",
       "      <td>2002</td>\n",
       "      <td>104</td>\n",
       "      <td>LAKE HATCHINEHA</td>\n",
       "      <td>1.9812</td>\n",
       "      <td>NaN</td>\n",
       "      <td>NaN</td>\n",
       "      <td>NaT</td>\n",
       "    </tr>\n",
       "    <tr>\n",
       "      <th>4888</th>\n",
       "      <td>2002</td>\n",
       "      <td>104</td>\n",
       "      <td>LAKE HATCHINEHA</td>\n",
       "      <td>1.8796</td>\n",
       "      <td>NaN</td>\n",
       "      <td>NaN</td>\n",
       "      <td>NaT</td>\n",
       "    </tr>\n",
       "    <tr>\n",
       "      <th>5338</th>\n",
       "      <td>2002</td>\n",
       "      <td>404</td>\n",
       "      <td>EVERGLADES &amp; FRANCIS S. TAYLOR WMA (WCAs 3A &amp; 3B)</td>\n",
       "      <td>2.5908</td>\n",
       "      <td>NaN</td>\n",
       "      <td>NaN</td>\n",
       "      <td>NaT</td>\n",
       "    </tr>\n",
       "    <tr>\n",
       "      <th>5641</th>\n",
       "      <td>2002</td>\n",
       "      <td>504</td>\n",
       "      <td>ST. JOHNS RIVER (PUZZLE LAKE)</td>\n",
       "      <td>2.5908</td>\n",
       "      <td>NaN</td>\n",
       "      <td>NaN</td>\n",
       "      <td>NaT</td>\n",
       "    </tr>\n",
       "    <tr>\n",
       "      <th>5642</th>\n",
       "      <td>2002</td>\n",
       "      <td>504</td>\n",
       "      <td>ST. JOHNS RIVER (PUZZLE LAKE)</td>\n",
       "      <td>2.5400</td>\n",
       "      <td>NaN</td>\n",
       "      <td>NaN</td>\n",
       "      <td>NaT</td>\n",
       "    </tr>\n",
       "    <tr>\n",
       "      <th>5740</th>\n",
       "      <td>2002</td>\n",
       "      <td>505</td>\n",
       "      <td>LAKE HARNEY</td>\n",
       "      <td>2.4384</td>\n",
       "      <td>NaN</td>\n",
       "      <td>NaN</td>\n",
       "      <td>NaT</td>\n",
       "    </tr>\n",
       "    <tr>\n",
       "      <th>6186</th>\n",
       "      <td>2002</td>\n",
       "      <td>601</td>\n",
       "      <td>LAKE OKEECHOBEE WEST</td>\n",
       "      <td>2.4384</td>\n",
       "      <td>NaN</td>\n",
       "      <td>NaN</td>\n",
       "      <td>NaT</td>\n",
       "    </tr>\n",
       "    <tr>\n",
       "      <th>...</th>\n",
       "      <td>...</td>\n",
       "      <td>...</td>\n",
       "      <td>...</td>\n",
       "      <td>...</td>\n",
       "      <td>...</td>\n",
       "      <td>...</td>\n",
       "      <td>...</td>\n",
       "    </tr>\n",
       "    <tr>\n",
       "      <th>43372</th>\n",
       "      <td>2010</td>\n",
       "      <td>106</td>\n",
       "      <td>KISSIMMEE RIVER</td>\n",
       "      <td>2.1844</td>\n",
       "      <td>NaN</td>\n",
       "      <td>NaN</td>\n",
       "      <td>NaT</td>\n",
       "    </tr>\n",
       "    <tr>\n",
       "      <th>43799</th>\n",
       "      <td>2010</td>\n",
       "      <td>110</td>\n",
       "      <td>LAKE KISSIMMEE</td>\n",
       "      <td>3.0480</td>\n",
       "      <td>NaN</td>\n",
       "      <td>NaN</td>\n",
       "      <td>NaT</td>\n",
       "    </tr>\n",
       "    <tr>\n",
       "      <th>43831</th>\n",
       "      <td>2010</td>\n",
       "      <td>110</td>\n",
       "      <td>LAKE KISSIMMEE</td>\n",
       "      <td>2.4892</td>\n",
       "      <td>NaN</td>\n",
       "      <td>SOUTH END OF LAKE KISSIMMEE</td>\n",
       "      <td>NaT</td>\n",
       "    </tr>\n",
       "    <tr>\n",
       "      <th>44270</th>\n",
       "      <td>2010</td>\n",
       "      <td>407</td>\n",
       "      <td>STA-1W</td>\n",
       "      <td>2.4892</td>\n",
       "      <td>NaN</td>\n",
       "      <td>NaN</td>\n",
       "      <td>NaT</td>\n",
       "    </tr>\n",
       "    <tr>\n",
       "      <th>44280</th>\n",
       "      <td>2010</td>\n",
       "      <td>407</td>\n",
       "      <td>STA-1W</td>\n",
       "      <td>2.4384</td>\n",
       "      <td>NaN</td>\n",
       "      <td>NaN</td>\n",
       "      <td>NaT</td>\n",
       "    </tr>\n",
       "    <tr>\n",
       "      <th>44517</th>\n",
       "      <td>2010</td>\n",
       "      <td>413</td>\n",
       "      <td>STA-3/4 EAST</td>\n",
       "      <td>2.6924</td>\n",
       "      <td>NaN</td>\n",
       "      <td>STA 3/4 EAST</td>\n",
       "      <td>NaT</td>\n",
       "    </tr>\n",
       "    <tr>\n",
       "      <th>44609</th>\n",
       "      <td>2010</td>\n",
       "      <td>414</td>\n",
       "      <td>STA-3/4 WEST</td>\n",
       "      <td>2.3368</td>\n",
       "      <td>NaN</td>\n",
       "      <td>MIDDLE OF LAKE</td>\n",
       "      <td>NaT</td>\n",
       "    </tr>\n",
       "    <tr>\n",
       "      <th>45252</th>\n",
       "      <td>2010</td>\n",
       "      <td>502</td>\n",
       "      <td>ST. JOHNS RIVER (LAKE POINSETT)</td>\n",
       "      <td>2.5908</td>\n",
       "      <td>NaN</td>\n",
       "      <td>NaN</td>\n",
       "      <td>NaT</td>\n",
       "    </tr>\n",
       "    <tr>\n",
       "      <th>45606</th>\n",
       "      <td>2010</td>\n",
       "      <td>502</td>\n",
       "      <td>ST. JOHNS RIVER (LAKE POINSETT)</td>\n",
       "      <td>1.8034</td>\n",
       "      <td>NaN</td>\n",
       "      <td>NaN</td>\n",
       "      <td>NaT</td>\n",
       "    </tr>\n",
       "    <tr>\n",
       "      <th>45849</th>\n",
       "      <td>2010</td>\n",
       "      <td>504</td>\n",
       "      <td>ST. JOHNS RIVER (PUZZLE LAKE)</td>\n",
       "      <td>2.4384</td>\n",
       "      <td>NaN</td>\n",
       "      <td>NaN</td>\n",
       "      <td>NaT</td>\n",
       "    </tr>\n",
       "    <tr>\n",
       "      <th>46083</th>\n",
       "      <td>2010</td>\n",
       "      <td>505</td>\n",
       "      <td>LAKE HARNEY</td>\n",
       "      <td>2.2352</td>\n",
       "      <td>NaN</td>\n",
       "      <td>NaN</td>\n",
       "      <td>NaT</td>\n",
       "    </tr>\n",
       "    <tr>\n",
       "      <th>46630</th>\n",
       "      <td>2010</td>\n",
       "      <td>515</td>\n",
       "      <td>LAKE PANASOFFKEE</td>\n",
       "      <td>2.8956</td>\n",
       "      <td>NaN</td>\n",
       "      <td>NaN</td>\n",
       "      <td>NaT</td>\n",
       "    </tr>\n",
       "    <tr>\n",
       "      <th>46631</th>\n",
       "      <td>2010</td>\n",
       "      <td>515</td>\n",
       "      <td>LAKE PANASOFFKEE</td>\n",
       "      <td>2.8448</td>\n",
       "      <td>NaN</td>\n",
       "      <td>LAKE PANNASOFKEE</td>\n",
       "      <td>NaT</td>\n",
       "    </tr>\n",
       "    <tr>\n",
       "      <th>46641</th>\n",
       "      <td>2010</td>\n",
       "      <td>518</td>\n",
       "      <td>LAKE ROUSSEAU</td>\n",
       "      <td>3.3528</td>\n",
       "      <td>NaN</td>\n",
       "      <td>NaN</td>\n",
       "      <td>NaT</td>\n",
       "    </tr>\n",
       "    <tr>\n",
       "      <th>46651</th>\n",
       "      <td>2010</td>\n",
       "      <td>518</td>\n",
       "      <td>LAKE ROUSSEAU</td>\n",
       "      <td>2.4892</td>\n",
       "      <td>NaN</td>\n",
       "      <td>NaN</td>\n",
       "      <td>NaT</td>\n",
       "    </tr>\n",
       "    <tr>\n",
       "      <th>46964</th>\n",
       "      <td>2010</td>\n",
       "      <td>601</td>\n",
       "      <td>LAKE OKEECHOBEE (WEST)</td>\n",
       "      <td>2.9464</td>\n",
       "      <td>NaN</td>\n",
       "      <td>LAKE OKEECHOBEE</td>\n",
       "      <td>NaT</td>\n",
       "    </tr>\n",
       "    <tr>\n",
       "      <th>47600</th>\n",
       "      <td>2010</td>\n",
       "      <td>603</td>\n",
       "      <td>LAKE OKEECHOBEE (EAST)</td>\n",
       "      <td>0.3048</td>\n",
       "      <td>NaN</td>\n",
       "      <td>LAKE OKEECHOBEE EAST</td>\n",
       "      <td>NaT</td>\n",
       "    </tr>\n",
       "    <tr>\n",
       "      <th>47637</th>\n",
       "      <td>2010</td>\n",
       "      <td>604</td>\n",
       "      <td>LAKE OKEECHOBEE (SOUTH)</td>\n",
       "      <td>3.2004</td>\n",
       "      <td>NaN</td>\n",
       "      <td>NaN</td>\n",
       "      <td>NaT</td>\n",
       "    </tr>\n",
       "    <tr>\n",
       "      <th>47966</th>\n",
       "      <td>2010</td>\n",
       "      <td>604</td>\n",
       "      <td>LAKE OKEECHOBEE (SOUTH)</td>\n",
       "      <td>2.2098</td>\n",
       "      <td>NaN</td>\n",
       "      <td>NaN</td>\n",
       "      <td>NaT</td>\n",
       "    </tr>\n",
       "    <tr>\n",
       "      <th>48126</th>\n",
       "      <td>2010</td>\n",
       "      <td>604</td>\n",
       "      <td>LAKE OKEECHOBEE (SOUTH)</td>\n",
       "      <td>2.0828</td>\n",
       "      <td>NaN</td>\n",
       "      <td>NaN</td>\n",
       "      <td>NaT</td>\n",
       "    </tr>\n",
       "    <tr>\n",
       "      <th>48871</th>\n",
       "      <td>2010</td>\n",
       "      <td>722</td>\n",
       "      <td>ORANGE LAKE</td>\n",
       "      <td>2.3622</td>\n",
       "      <td>NaN</td>\n",
       "      <td>NaN</td>\n",
       "      <td>NaT</td>\n",
       "    </tr>\n",
       "    <tr>\n",
       "      <th>48901</th>\n",
       "      <td>2010</td>\n",
       "      <td>722</td>\n",
       "      <td>ORANGE LAKE</td>\n",
       "      <td>2.2606</td>\n",
       "      <td>NaN</td>\n",
       "      <td>ORANGE LAKE</td>\n",
       "      <td>NaT</td>\n",
       "    </tr>\n",
       "    <tr>\n",
       "      <th>49009</th>\n",
       "      <td>2010</td>\n",
       "      <td>722</td>\n",
       "      <td>ORANGE LAKE</td>\n",
       "      <td>1.8288</td>\n",
       "      <td>NaN</td>\n",
       "      <td>NaN</td>\n",
       "      <td>NaT</td>\n",
       "    </tr>\n",
       "    <tr>\n",
       "      <th>49389</th>\n",
       "      <td>2010</td>\n",
       "      <td>732</td>\n",
       "      <td>LAKE IAMONIA</td>\n",
       "      <td>1.7780</td>\n",
       "      <td>NaN</td>\n",
       "      <td>NaN</td>\n",
       "      <td>NaT</td>\n",
       "    </tr>\n",
       "    <tr>\n",
       "      <th>49393</th>\n",
       "      <td>2010</td>\n",
       "      <td>732</td>\n",
       "      <td>LAKE IAMONIA</td>\n",
       "      <td>1.6256</td>\n",
       "      <td>NaN</td>\n",
       "      <td>NaN</td>\n",
       "      <td>NaT</td>\n",
       "    </tr>\n",
       "    <tr>\n",
       "      <th>49786</th>\n",
       "      <td>2010</td>\n",
       "      <td>823</td>\n",
       "      <td>GULF COUNTY</td>\n",
       "      <td>3.0480</td>\n",
       "      <td>NaN</td>\n",
       "      <td>I.C.W.</td>\n",
       "      <td>NaT</td>\n",
       "    </tr>\n",
       "    <tr>\n",
       "      <th>50268</th>\n",
       "      <td>2010</td>\n",
       "      <td>853</td>\n",
       "      <td>POLK COUNTY</td>\n",
       "      <td>1.3208</td>\n",
       "      <td>NaN</td>\n",
       "      <td>NaN</td>\n",
       "      <td>NaT</td>\n",
       "    </tr>\n",
       "    <tr>\n",
       "      <th>50269</th>\n",
       "      <td>2010</td>\n",
       "      <td>853</td>\n",
       "      <td>POLK COUNTY</td>\n",
       "      <td>1.2700</td>\n",
       "      <td>NaN</td>\n",
       "      <td>NaN</td>\n",
       "      <td>NaT</td>\n",
       "    </tr>\n",
       "    <tr>\n",
       "      <th>75468</th>\n",
       "      <td>2014</td>\n",
       "      <td>527</td>\n",
       "      <td>LAKE MONROE</td>\n",
       "      <td>0.0000</td>\n",
       "      <td>NaN</td>\n",
       "      <td>NaN</td>\n",
       "      <td>NaT</td>\n",
       "    </tr>\n",
       "    <tr>\n",
       "      <th>75469</th>\n",
       "      <td>2014</td>\n",
       "      <td>527</td>\n",
       "      <td>LAKE MONROE</td>\n",
       "      <td>0.0000</td>\n",
       "      <td>NaN</td>\n",
       "      <td>NaN</td>\n",
       "      <td>NaT</td>\n",
       "    </tr>\n",
       "  </tbody>\n",
       "</table>\n",
       "<p>264 rows × 7 columns</p>\n",
       "</div>"
      ],
      "text/plain": [
       "       Year  Area Number                                          Area Name  \\\n",
       "163    2000          109                                     LAKE ISTOKPOGA   \n",
       "208    2000          109                                     LAKE ISTOKPOGA   \n",
       "251    2000          110                                     LAKE KISSIMMEE   \n",
       "289    2000          110                                     LAKE KISSIMMEE   \n",
       "827    2000          505                                        LAKE HARNEY   \n",
       "1010   2000          520                                  LAKE TOHOPEKALIGA   \n",
       "1019   2000          520                                  LAKE TOHOPEKALIGA   \n",
       "1178   2000          601                             LAKE OKEECHOBEE (WEST)   \n",
       "1189   2000          601                             LAKE OKEECHOBEE (WEST)   \n",
       "1255   2000          601                             LAKE OKEECHOBEE (WEST)   \n",
       "1514   2000          602                            LAKE OKEECHOBEE (NORTH)   \n",
       "1583   2000          602                            LAKE OKEECHOBEE (NORTH)   \n",
       "1584   2000          602                            LAKE OKEECHOBEE (NORTH)   \n",
       "1640   2000          602                            LAKE OKEECHOBEE (NORTH)   \n",
       "1711   2000          604                            LAKE OKEECHOBEE (SOUTH)   \n",
       "1768   2000          604                            LAKE OKEECHOBEE (SOUTH)   \n",
       "2324   2000          722                                        ORANGE LAKE   \n",
       "2756   2001          109                                     LAKE ISTOKPOGA   \n",
       "2769   2001          109                                     LAKE ISTOKPOGA   \n",
       "2792   2001          109                                     LAKE ISTOKPOGA   \n",
       "3427   2001          502                    ST. JOHNS RIVER (LAKE POINSETT)   \n",
       "3827   2001          542                 BLUE CYPRESS WATER MANAGEMENT AREA   \n",
       "4807   2001          751                                        LAKE GEORGE   \n",
       "4883   2002          104                                    LAKE HATCHINEHA   \n",
       "4888   2002          104                                    LAKE HATCHINEHA   \n",
       "5338   2002          404  EVERGLADES & FRANCIS S. TAYLOR WMA (WCAs 3A & 3B)   \n",
       "5641   2002          504                      ST. JOHNS RIVER (PUZZLE LAKE)   \n",
       "5642   2002          504                      ST. JOHNS RIVER (PUZZLE LAKE)   \n",
       "5740   2002          505                                        LAKE HARNEY   \n",
       "6186   2002          601                               LAKE OKEECHOBEE WEST   \n",
       "...     ...          ...                                                ...   \n",
       "43372  2010          106                                    KISSIMMEE RIVER   \n",
       "43799  2010          110                                     LAKE KISSIMMEE   \n",
       "43831  2010          110                                     LAKE KISSIMMEE   \n",
       "44270  2010          407                                             STA-1W   \n",
       "44280  2010          407                                             STA-1W   \n",
       "44517  2010          413                                       STA-3/4 EAST   \n",
       "44609  2010          414                                       STA-3/4 WEST   \n",
       "45252  2010          502                    ST. JOHNS RIVER (LAKE POINSETT)   \n",
       "45606  2010          502                    ST. JOHNS RIVER (LAKE POINSETT)   \n",
       "45849  2010          504                      ST. JOHNS RIVER (PUZZLE LAKE)   \n",
       "46083  2010          505                                        LAKE HARNEY   \n",
       "46630  2010          515                                   LAKE PANASOFFKEE   \n",
       "46631  2010          515                                   LAKE PANASOFFKEE   \n",
       "46641  2010          518                                      LAKE ROUSSEAU   \n",
       "46651  2010          518                                      LAKE ROUSSEAU   \n",
       "46964  2010          601                             LAKE OKEECHOBEE (WEST)   \n",
       "47600  2010          603                             LAKE OKEECHOBEE (EAST)   \n",
       "47637  2010          604                            LAKE OKEECHOBEE (SOUTH)   \n",
       "47966  2010          604                            LAKE OKEECHOBEE (SOUTH)   \n",
       "48126  2010          604                            LAKE OKEECHOBEE (SOUTH)   \n",
       "48871  2010          722                                        ORANGE LAKE   \n",
       "48901  2010          722                                        ORANGE LAKE   \n",
       "49009  2010          722                                        ORANGE LAKE   \n",
       "49389  2010          732                                       LAKE IAMONIA   \n",
       "49393  2010          732                                       LAKE IAMONIA   \n",
       "49786  2010          823                                        GULF COUNTY   \n",
       "50268  2010          853                                        POLK COUNTY   \n",
       "50269  2010          853                                        POLK COUNTY   \n",
       "75468  2014          527                                        LAKE MONROE   \n",
       "75469  2014          527                                        LAKE MONROE   \n",
       "\n",
       "       Carcass Size Harvest Date                     Location Harvest_Date  \n",
       "163          2.2352          NaN                          NaN          NaT  \n",
       "208          1.8542          NaN                          NaN          NaT  \n",
       "251          3.2258          NaN                          NaN          NaT  \n",
       "289          2.4384          NaN                          NaN          NaT  \n",
       "827          2.7432          NaN                          NaN          NaT  \n",
       "1010         3.1242          NaN                          NaN          NaT  \n",
       "1019         2.8448          NaN                          NaN          NaT  \n",
       "1178         3.3528          NaN                          NaN          NaT  \n",
       "1189         3.2766          NaN                          NaN          NaT  \n",
       "1255         3.0480          NaN                          NaN          NaT  \n",
       "1514         3.7592          NaN                          NaN          NaT  \n",
       "1583         3.0480          NaN                          NaN          NaT  \n",
       "1584         3.0480          NaN                          NaN          NaT  \n",
       "1640         2.1082          NaN                          NaN          NaT  \n",
       "1711         3.8608          NaN                          NaN          NaT  \n",
       "1768         3.2766          NaN                          NaN          NaT  \n",
       "2324         2.6162          NaN                          NaN          NaT  \n",
       "2756         2.4638          NaN                          NaN          NaT  \n",
       "2769         2.3368          NaN                          NaN          NaT  \n",
       "2792         2.1844          NaN                          NaN          NaT  \n",
       "3427         1.8288          NaN                          NaN          NaT  \n",
       "3827         2.9972          NaN                          NaN          NaT  \n",
       "4807         1.4732          NaN                          NaN          NaT  \n",
       "4883         1.9812          NaN                          NaN          NaT  \n",
       "4888         1.8796          NaN                          NaN          NaT  \n",
       "5338         2.5908          NaN                          NaN          NaT  \n",
       "5641         2.5908          NaN                          NaN          NaT  \n",
       "5642         2.5400          NaN                          NaN          NaT  \n",
       "5740         2.4384          NaN                          NaN          NaT  \n",
       "6186         2.4384          NaN                          NaN          NaT  \n",
       "...             ...          ...                          ...          ...  \n",
       "43372        2.1844          NaN                          NaN          NaT  \n",
       "43799        3.0480          NaN                          NaN          NaT  \n",
       "43831        2.4892          NaN  SOUTH END OF LAKE KISSIMMEE          NaT  \n",
       "44270        2.4892          NaN                          NaN          NaT  \n",
       "44280        2.4384          NaN                          NaN          NaT  \n",
       "44517        2.6924          NaN                 STA 3/4 EAST          NaT  \n",
       "44609        2.3368          NaN               MIDDLE OF LAKE          NaT  \n",
       "45252        2.5908          NaN                          NaN          NaT  \n",
       "45606        1.8034          NaN                          NaN          NaT  \n",
       "45849        2.4384          NaN                          NaN          NaT  \n",
       "46083        2.2352          NaN                          NaN          NaT  \n",
       "46630        2.8956          NaN                          NaN          NaT  \n",
       "46631        2.8448          NaN             LAKE PANNASOFKEE          NaT  \n",
       "46641        3.3528          NaN                          NaN          NaT  \n",
       "46651        2.4892          NaN                          NaN          NaT  \n",
       "46964        2.9464          NaN              LAKE OKEECHOBEE          NaT  \n",
       "47600        0.3048          NaN         LAKE OKEECHOBEE EAST          NaT  \n",
       "47637        3.2004          NaN                          NaN          NaT  \n",
       "47966        2.2098          NaN                          NaN          NaT  \n",
       "48126        2.0828          NaN                          NaN          NaT  \n",
       "48871        2.3622          NaN                          NaN          NaT  \n",
       "48901        2.2606          NaN                  ORANGE LAKE          NaT  \n",
       "49009        1.8288          NaN                          NaN          NaT  \n",
       "49389        1.7780          NaN                          NaN          NaT  \n",
       "49393        1.6256          NaN                          NaN          NaT  \n",
       "49786        3.0480          NaN                       I.C.W.          NaT  \n",
       "50268        1.3208          NaN                          NaN          NaT  \n",
       "50269        1.2700          NaN                          NaN          NaT  \n",
       "75468        0.0000          NaN                          NaN          NaT  \n",
       "75469        0.0000          NaN                          NaN          NaT  \n",
       "\n",
       "[264 rows x 7 columns]"
      ]
     },
     "execution_count": 11,
     "metadata": {},
     "output_type": "execute_result"
    }
   ],
   "source": [
    "clean_data[pd.isnull(clean_data['Harvest_Date'])]\n",
    "\n",
    "## looks like there's no date for some catches, but there is a year\n",
    "\n"
   ]
  },
  {
   "cell_type": "code",
   "execution_count": 12,
   "metadata": {},
   "outputs": [],
   "source": [
    "# Still useful to have the year, but create a filter to avoid any Nan issues\n",
    "\n",
    "has_date = pd.notnull(clean_data['Harvest_Date'])\n",
    "\n"
   ]
  },
  {
   "cell_type": "code",
   "execution_count": 14,
   "metadata": {},
   "outputs": [
    {
     "data": {
      "text/plain": [
       "(87182,)"
      ]
     },
     "execution_count": 14,
     "metadata": {},
     "output_type": "execute_result"
    }
   ],
   "source": [
    "has_date.shape"
   ]
  },
  {
   "cell_type": "code",
   "execution_count": 17,
   "metadata": {
    "collapsed": true
   },
   "outputs": [
    {
     "data": {
      "text/plain": [
       "0        2000.0\n",
       "1        2000.0\n",
       "2        2000.0\n",
       "3        2000.0\n",
       "4        2000.0\n",
       "5        2000.0\n",
       "6        2000.0\n",
       "7        2000.0\n",
       "8        2000.0\n",
       "9        2000.0\n",
       "10       2000.0\n",
       "11       2000.0\n",
       "12       2000.0\n",
       "13       2000.0\n",
       "14       2000.0\n",
       "15       2000.0\n",
       "16       2000.0\n",
       "17       2000.0\n",
       "18       2000.0\n",
       "19       2000.0\n",
       "20       2000.0\n",
       "21       2000.0\n",
       "22       2000.0\n",
       "23       2000.0\n",
       "24       2000.0\n",
       "25       2000.0\n",
       "26       2000.0\n",
       "27       2000.0\n",
       "28       2000.0\n",
       "29       2000.0\n",
       "          ...  \n",
       "87152    2015.0\n",
       "87153    2015.0\n",
       "87154    2015.0\n",
       "87155    2015.0\n",
       "87156    2015.0\n",
       "87157    2015.0\n",
       "87158    2015.0\n",
       "87159    2015.0\n",
       "87160    2015.0\n",
       "87161    2015.0\n",
       "87162    2015.0\n",
       "87163    2015.0\n",
       "87164    2015.0\n",
       "87165    2015.0\n",
       "87166    2015.0\n",
       "87167    2015.0\n",
       "87168    2015.0\n",
       "87169    2015.0\n",
       "87170    2015.0\n",
       "87171    2015.0\n",
       "87172    2015.0\n",
       "87173    2015.0\n",
       "87174    2015.0\n",
       "87175    2015.0\n",
       "87176    2015.0\n",
       "87177    2015.0\n",
       "87178    2015.0\n",
       "87179    2015.0\n",
       "87180    2015.0\n",
       "87181    2015.0\n",
       "Name: Harvest_Date, Length: 87182, dtype: float64"
      ]
     },
     "execution_count": 17,
     "metadata": {},
     "output_type": "execute_result"
    }
   ],
   "source": [
    "clean_data.Harvest_Date.apply(lambda x: x.year)"
   ]
  },
  {
   "cell_type": "code",
   "execution_count": 19,
   "metadata": {},
   "outputs": [
    {
     "data": {
      "text/plain": [
       "0"
      ]
     },
     "execution_count": 19,
     "metadata": {},
     "output_type": "execute_result"
    }
   ],
   "source": [
    "## Let's check that the year has still been recorded correctly\n",
    "\n",
    "clean_data['Year'] = clean_data[has_date]['Harvest_Date'].apply(lambda x: x.year)\n",
    "\n",
    "bad_date = clean_data[has_date][clean_data[has_date]['Year'] != clean_data[has_date]['Year']]\n",
    "\n",
    "len(bad_date)\n",
    "\n"
   ]
  },
  {
   "cell_type": "code",
   "execution_count": 20,
   "metadata": {},
   "outputs": [
    {
     "data": {
      "text/plain": [
       "(87182, 7)"
      ]
     },
     "execution_count": 20,
     "metadata": {},
     "output_type": "execute_result"
    }
   ],
   "source": [
    "clean_data = clean_data.drop(bad_date.index, axis = 0)\n",
    "clean_data.loc[~has_date,'Year'] = clean_data.loc[~has_date,'Year']\n",
    "clean_data.shape"
   ]
  },
  {
   "cell_type": "code",
   "execution_count": 21,
   "metadata": {},
   "outputs": [],
   "source": [
    "clean_data.loc[has_date,'Month'] = clean_data.loc[has_date,'Harvest_Date'].apply(lambda x: x.month)\n",
    "clean_data.loc[has_date,'Day'] = clean_data.loc[has_date,'Harvest_Date'].apply(lambda x: x.day)"
   ]
  },
  {
   "cell_type": "code",
   "execution_count": 22,
   "metadata": {},
   "outputs": [
    {
     "data": {
      "text/plain": [
       "264"
      ]
     },
     "execution_count": 22,
     "metadata": {},
     "output_type": "execute_result"
    }
   ],
   "source": [
    "len(clean_data.loc[~has_date,'Month'])\n",
    "\n"
   ]
  },
  {
   "cell_type": "markdown",
   "metadata": {},
   "source": [
    "<h1 id=\"When-should-I-go-hunting?\">When should I go hunting?<a class=\"anchor-link\" href=\"#When-should-I-go-hunting?\">¶</a></h1>\n"
   ]
  },
  {
   "cell_type": "code",
   "execution_count": 23,
   "metadata": {},
   "outputs": [
    {
     "data": {
      "text/plain": [
       "195"
      ]
     },
     "execution_count": 23,
     "metadata": {},
     "output_type": "execute_result"
    }
   ],
   "source": [
    "## How many distinct weeks do we have data for?\n",
    "\n",
    "weeks = pd.DataFrame({'Year': clean_data.Year,'week':clean_data.Harvest_Date.apply(lambda x:x.week)})\n",
    "\n",
    "weeks = weeks.drop_duplicates()\n",
    "\n",
    "len(weeks)\n",
    "\n"
   ]
  },
  {
   "cell_type": "code",
   "execution_count": 24,
   "metadata": {},
   "outputs": [
    {
     "data": {
      "text/plain": [
       "[Text(0, 0.5, 'Number of Carcasses'),\n",
       " Text(0.5, 1.0, 'Average Carcasses per day 2000 - 2015')]"
      ]
     },
     "execution_count": 24,
     "metadata": {},
     "output_type": "execute_result"
    },
    {
     "data": {
      "image/png": "[encoded data removed]",
      "text/plain": [
       "<Figure size 432x288 with 1 Axes>"
      ]
     },
     "metadata": {
      "needs_background": "light"
     },
     "output_type": "display_data"
    }
   ],
   "source": [
    "import calendar as cal\n",
    "\n",
    "days = list(cal.day_abbr)\n",
    "\n",
    "clean_data['DayofWeek'] = clean_data['Harvest_Date'].apply(lambda x: x.dayofweek)\n",
    "\n",
    "\n",
    "\n",
    "clean_data.loc[has_date,'Dayname'] = clean_data.loc[has_date,'DayofWeek'].apply(lambda x: days[int(x)])\n",
    "\n",
    "day_count = clean_data.groupby('Dayname')['Carcass Size'].count()/(204)\n",
    "\n",
    "day_count.reindex(days).plot(kind='bar').set(ylabel = 'Number of Carcasses', title = 'Average Carcasses per day 2000 - 2015')\n",
    "\n"
   ]
  },
  {
   "cell_type": "code",
   "execution_count": 25,
   "metadata": {},
   "outputs": [
    {
     "name": "stderr",
     "output_type": "stream",
     "text": [
      "/home/tms/anaconda3/lib/python3.7/site-packages/ipykernel_launcher.py:5: FutureWarning: pd.TimeGrouper is deprecated and will be removed; Please use pd.Grouper(freq=...)\n",
      "  \"\"\"\n"
     ]
    },
    {
     "data": {
      "text/plain": [
       "[Text(0, 0.5, 'Total Carcasses'), Text(0.5, 0, 'Year')]"
      ]
     },
     "execution_count": 25,
     "metadata": {},
     "output_type": "execute_result"
    },
    {
     "data": {
      "image/png": "[encoded data removed]",
      "text/plain": [
       "<Figure size 432x288 with 1 Axes>"
      ]
     },
     "metadata": {
      "needs_background": "light"
     },
     "output_type": "display_data"
    }
   ],
   "source": [
    "## Time series of number of catches over years\n",
    "\n",
    "date_indexed_df = clean_data.set_index(pd.DatetimeIndex(clean_data['Harvest_Date']))\n",
    "\n",
    "df_by_year = date_indexed_df.groupby(pd.TimeGrouper(freq='A'))\n",
    "\n",
    "yearplot = df_by_year['Carcass Size'].count().plot(kind='line')\n",
    "\n",
    "yearplot.set(xlabel='Year',ylabel='Total Carcasses')\n",
    "\n"
   ]
  },
  {
   "cell_type": "code",
   "execution_count": 26,
   "metadata": {},
   "outputs": [
    {
     "data": {
      "image/png": "[encoded data removed]",
      "text/plain": [
       "<Figure size 864x864 with 16 Axes>"
      ]
     },
     "metadata": {
      "needs_background": "light"
     },
     "output_type": "display_data"
    }
   ],
   "source": [
    "fig, axarray = plt.subplots(4,4,figsize = (12,12), sharey = True)\n",
    "\n",
    "row = col = 0\n",
    "for key, grp in df_by_year:\n",
    "    if col == 4:\n",
    "        row += 1\n",
    "        col = 0\n",
    "    \n",
    "    grp.groupby(pd.Grouper(freq='D'))['Carcass Size'].count().plot(ax = axarray[row,col],kind='line')\n",
    "    col+=1\n",
    "    \n",
    "plt.tight_layout(pad=3)    \n",
    "plt.suptitle('Daily Number of Carcasses by Year', size = 12)\n",
    "plt.show()\n",
    "\n"
   ]
  },
  {
   "cell_type": "markdown",
   "metadata": {},
   "source": [
    "\n",
    "<h1 id=\"Observations\">Observations<a class=\"anchor-link\" href=\"#Observations\">¶</a></h1><ul>\n",
    "<li>There is a predictable weekday/weekend cycle</li>\n",
    "<li>There is usually a peak in the harvest towards the end of the season, which in recent years has been the end of November <em>(although in 2014 and 2015 catches took place outside of the September-November window)</em></li>\n",
    "<li>The total harvest has gone up dramatically year on year</li>\n",
    "</ul>\n",
    "<p>So, without a time machine to take us back to the quiet times around 2000-2005, the best time looks like a Monday towards the end of September.</p>\n"
   ]
  },
  {
   "cell_type": "markdown",
   "metadata": {},
   "source": [
    "\n",
    "<h2 id=\"Where-should-I-go-hunting?\">Where should I go hunting?<a class=\"anchor-link\" href=\"#Where-should-I-go-hunting?\">¶</a></h2>\n"
   ]
  },
  {
   "cell_type": "code",
   "execution_count": 27,
   "metadata": {},
   "outputs": [
    {
     "data": {
      "text/plain": [
       "Year                           2015\n",
       "Area Number                     866\n",
       "Area Name             WALTON COUNTY\n",
       "Carcass Size                 2.6924\n",
       "Harvest Date             08-23-2015\n",
       "Location                 KINGS LAKE\n",
       "Harvest_Date    2015-08-23 00:00:00\n",
       "Month                             8\n",
       "Day                              23\n",
       "DayofWeek                         6\n",
       "Dayname                         Sun\n",
       "Name: 87132, dtype: object"
      ]
     },
     "execution_count": 27,
     "metadata": {},
     "output_type": "execute_result"
    }
   ],
   "source": [
    "## Each entry is marked with one or both of an Area Name and a Location e.g.\n",
    "\n",
    "clean_data.iloc[87132]\n",
    "\n"
   ]
  },
  {
   "cell_type": "code",
   "execution_count": 28,
   "metadata": {},
   "outputs": [
    {
     "name": "stdout",
     "output_type": "stream",
     "text": [
      "There are 166 distinct areas, and 3577 distinct locations\n"
     ]
    }
   ],
   "source": [
    "print('There are %i distinct areas, and %i distinct locations' %(len(clean_data['Area Name'].unique()),len(clean_data['Location'].unique())))\n",
    "\n"
   ]
  },
  {
   "cell_type": "code",
   "execution_count": 29,
   "metadata": {},
   "outputs": [
    {
     "name": "stdout",
     "output_type": "stream",
     "text": [
      "101\n",
      "71145\n"
     ]
    },
    {
     "name": "stderr",
     "output_type": "stream",
     "text": [
      "/home/tms/anaconda3/lib/python3.7/site-packages/ipykernel_launcher.py:19: UserWarning: Boolean Series key will be reindexed to match DataFrame index.\n"
     ]
    },
    {
     "data": {
      "text/html": [
       "<div>\n",
       "<style scoped>\n",
       "    .dataframe tbody tr th:only-of-type {\n",
       "        vertical-align: middle;\n",
       "    }\n",
       "\n",
       "    .dataframe tbody tr th {\n",
       "        vertical-align: top;\n",
       "    }\n",
       "\n",
       "    .dataframe thead th {\n",
       "        text-align: right;\n",
       "    }\n",
       "</style>\n",
       "<table border=\"1\" class=\"dataframe\">\n",
       "  <thead>\n",
       "    <tr style=\"text-align: right;\">\n",
       "      <th></th>\n",
       "      <th>Year</th>\n",
       "      <th>Area Number</th>\n",
       "      <th>Area Name</th>\n",
       "      <th>Carcass Size</th>\n",
       "      <th>Harvest Date</th>\n",
       "      <th>Location</th>\n",
       "      <th>Harvest_Date</th>\n",
       "      <th>Month</th>\n",
       "      <th>Day</th>\n",
       "      <th>DayofWeek</th>\n",
       "      <th>Dayname</th>\n",
       "    </tr>\n",
       "  </thead>\n",
       "  <tbody>\n",
       "    <tr>\n",
       "      <th>17244</th>\n",
       "      <td>2006.0</td>\n",
       "      <td>406</td>\n",
       "      <td>NaN</td>\n",
       "      <td>2.8448</td>\n",
       "      <td>10-28-2006</td>\n",
       "      <td>STA-5 (406)</td>\n",
       "      <td>2006-10-28</td>\n",
       "      <td>10.0</td>\n",
       "      <td>28.0</td>\n",
       "      <td>5.0</td>\n",
       "      <td>Sat</td>\n",
       "    </tr>\n",
       "    <tr>\n",
       "      <th>17272</th>\n",
       "      <td>2006.0</td>\n",
       "      <td>406</td>\n",
       "      <td>NaN</td>\n",
       "      <td>2.4130</td>\n",
       "      <td>09-08-2006</td>\n",
       "      <td>STA 5 (406)</td>\n",
       "      <td>2006-09-08</td>\n",
       "      <td>9.0</td>\n",
       "      <td>8.0</td>\n",
       "      <td>4.0</td>\n",
       "      <td>Fri</td>\n",
       "    </tr>\n",
       "  </tbody>\n",
       "</table>\n",
       "</div>"
      ],
      "text/plain": [
       "         Year  Area Number Area Name  Carcass Size Harvest Date     Location  \\\n",
       "17244  2006.0          406       NaN        2.8448   10-28-2006  STA-5 (406)   \n",
       "17272  2006.0          406       NaN        2.4130   09-08-2006  STA 5 (406)   \n",
       "\n",
       "      Harvest_Date  Month   Day  DayofWeek Dayname  \n",
       "17244   2006-10-28   10.0  28.0        5.0     Sat  \n",
       "17272   2006-09-08    9.0   8.0        4.0     Fri  "
      ]
     },
     "execution_count": 29,
     "metadata": {},
     "output_type": "execute_result"
    }
   ],
   "source": [
    "## How many entries don't have an Area Name? 101\n",
    "\n",
    "Area_Unknown = clean_data['Area Name'].isnull()\n",
    "\n",
    "print(Area_Unknown.sum())\n",
    "\n",
    "## How many entries don't have a location? 71096\n",
    "\n",
    "Location_Unknown = clean_data['Location'].isnull()\n",
    "\n",
    "print(Location_Unknown.sum())\n",
    "\n",
    "## How many don't have an area or a location? 99\n",
    "\n",
    "Location_Unknown[Area_Unknown].sum()\n",
    "\n",
    "## Can we infer the area from the location (when there's a location but no area?)\n",
    "\n",
    "clean_data[Area_Unknown][~Location_Unknown]\n",
    "\n"
   ]
  },
  {
   "cell_type": "code",
   "execution_count": 30,
   "metadata": {},
   "outputs": [],
   "source": [
    "## Looks like they're all from Area 406, which is sometimes called STA-5, \n",
    "## so let's just impute that and then drop any other unknown locations\n",
    "\n",
    "clean_data.loc[clean_data['Area Number'] == 406,'Area Name'] = 'STA-5'\n",
    "\n"
   ]
  },
  {
   "cell_type": "code",
   "execution_count": 31,
   "metadata": {},
   "outputs": [],
   "source": [
    "Area_Unknown = clean_data['Area Name'].isnull()\n",
    "\n",
    "clean_data = clean_data.drop(clean_data[Area_Unknown].index)\n",
    "\n"
   ]
  },
  {
   "cell_type": "markdown",
   "metadata": {},
   "source": [
    "<h4 id=\"Sub-Areas\">Sub-Areas<a class=\"anchor-link\" href=\"#Sub-Areas\">¶</a></h4><p>Some of our areas have a parentheses-enclosed sub-area, which may be useful to teases out the best place. If we just say <em>'Take me to St. John's River'</em>, we're referring to somewhere along that 300 mile stretch...!</p>\n"
   ]
  },
  {
   "cell_type": "code",
   "execution_count": 32,
   "metadata": {},
   "outputs": [
    {
     "data": {
      "text/plain": [
       "array(['POOL A', 'POOL C', 'WEST', 'SOUTH', 'NORTH', 'EAST',\n",
       "       \"LAKE HELL N' BLAZES\", 'LAKE POINSETT', 'PUZZLE LAKE', 'WELAKA',\n",
       "       'PALATKA SOUTH', 'WCAs 2A & 2B', 'WCAs 3A & 3B', 'BROADMOOR UNIT',\n",
       "       'GOODWIN UNIT', 'WCA 2', 'WCA 3', 'PALATKA', 'POOL E'],\n",
       "      dtype=object)"
      ]
     },
     "execution_count": 32,
     "metadata": {},
     "output_type": "execute_result"
    }
   ],
   "source": [
    "## Here are the specific sub areas\n",
    "\n",
    "def sub_area_search(string):\n",
    "    return re.search(\"\\((.*?)\\)\",string,re.I)\n",
    "\n",
    "sub_area_col = clean_data['Area Name'].apply(lambda x: sub_area_search(x).group(1) if sub_area_search(x) else None)\n",
    "\n",
    "sub_area_filt = clean_data['Area Name'].apply(lambda x: True if sub_area_search(x) else False)\n",
    "\n",
    "sub_area_col[sub_area_filt].unique()\n",
    "\n"
   ]
  },
  {
   "cell_type": "code",
   "execution_count": 33,
   "metadata": {},
   "outputs": [
    {
     "name": "stderr",
     "output_type": "stream",
     "text": [
      "/home/tms/anaconda3/lib/python3.7/site-packages/ipykernel_launcher.py:2: FutureWarning: using a dict on a Series for aggregation\n",
      "is deprecated and will be removed in a future version\n",
      "  \n"
     ]
    },
    {
     "data": {
      "text/html": [
       "<div>\n",
       "<style scoped>\n",
       "    .dataframe tbody tr th:only-of-type {\n",
       "        vertical-align: middle;\n",
       "    }\n",
       "\n",
       "    .dataframe tbody tr th {\n",
       "        vertical-align: top;\n",
       "    }\n",
       "\n",
       "    .dataframe thead th {\n",
       "        text-align: right;\n",
       "    }\n",
       "</style>\n",
       "<table border=\"1\" class=\"dataframe\">\n",
       "  <thead>\n",
       "    <tr style=\"text-align: right;\">\n",
       "      <th></th>\n",
       "      <th>Distinct Locations</th>\n",
       "      <th>Total Harvest</th>\n",
       "    </tr>\n",
       "    <tr>\n",
       "      <th>Area Name</th>\n",
       "      <th></th>\n",
       "      <th></th>\n",
       "    </tr>\n",
       "  </thead>\n",
       "  <tbody>\n",
       "    <tr>\n",
       "      <th>EVERGLADES &amp; FRANCIS S. TAYLOR WMA (WCA 2)</th>\n",
       "      <td>1</td>\n",
       "      <td>2</td>\n",
       "    </tr>\n",
       "    <tr>\n",
       "      <th>EVERGLADES &amp; FRANCIS S. TAYLOR WMA (WCA 3)</th>\n",
       "      <td>7</td>\n",
       "      <td>9</td>\n",
       "    </tr>\n",
       "    <tr>\n",
       "      <th>EVERGLADES &amp; FRANCIS S. TAYLOR WMA (WCAs 2A &amp; 2B)</th>\n",
       "      <td>0</td>\n",
       "      <td>0</td>\n",
       "    </tr>\n",
       "    <tr>\n",
       "      <th>EVERGLADES &amp; FRANCIS S. TAYLOR WMA (WCAs 3A &amp; 3B)</th>\n",
       "      <td>0</td>\n",
       "      <td>0</td>\n",
       "    </tr>\n",
       "    <tr>\n",
       "      <th>EVERGLADES WMA (WCA 2)</th>\n",
       "      <td>9</td>\n",
       "      <td>13</td>\n",
       "    </tr>\n",
       "    <tr>\n",
       "      <th>EVERGLADES WMA (WCA 3)</th>\n",
       "      <td>26</td>\n",
       "      <td>42</td>\n",
       "    </tr>\n",
       "    <tr>\n",
       "      <th>KISSIMMEE RIVER (POOL A)</th>\n",
       "      <td>13</td>\n",
       "      <td>26</td>\n",
       "    </tr>\n",
       "    <tr>\n",
       "      <th>KISSIMMEE RIVER (POOL C)</th>\n",
       "      <td>0</td>\n",
       "      <td>0</td>\n",
       "    </tr>\n",
       "    <tr>\n",
       "      <th>KISSIMMEE RIVER (POOL E)</th>\n",
       "      <td>8</td>\n",
       "      <td>10</td>\n",
       "    </tr>\n",
       "    <tr>\n",
       "      <th>LAKE OKEECHOBEE (EAST)</th>\n",
       "      <td>24</td>\n",
       "      <td>48</td>\n",
       "    </tr>\n",
       "    <tr>\n",
       "      <th>LAKE OKEECHOBEE (NORTH)</th>\n",
       "      <td>40</td>\n",
       "      <td>80</td>\n",
       "    </tr>\n",
       "    <tr>\n",
       "      <th>LAKE OKEECHOBEE (SOUTH)</th>\n",
       "      <td>80</td>\n",
       "      <td>231</td>\n",
       "    </tr>\n",
       "    <tr>\n",
       "      <th>LAKE OKEECHOBEE (WEST)</th>\n",
       "      <td>84</td>\n",
       "      <td>174</td>\n",
       "    </tr>\n",
       "    <tr>\n",
       "      <th>ST. JOHNS RIVER (LAKE HELL N' BLAZES)</th>\n",
       "      <td>44</td>\n",
       "      <td>92</td>\n",
       "    </tr>\n",
       "    <tr>\n",
       "      <th>ST. JOHNS RIVER (LAKE POINSETT)</th>\n",
       "      <td>67</td>\n",
       "      <td>314</td>\n",
       "    </tr>\n",
       "    <tr>\n",
       "      <th>ST. JOHNS RIVER (PALATKA SOUTH)</th>\n",
       "      <td>1</td>\n",
       "      <td>1</td>\n",
       "    </tr>\n",
       "    <tr>\n",
       "      <th>ST. JOHNS RIVER (PALATKA)</th>\n",
       "      <td>4</td>\n",
       "      <td>5</td>\n",
       "    </tr>\n",
       "    <tr>\n",
       "      <th>ST. JOHNS RIVER (PUZZLE LAKE)</th>\n",
       "      <td>24</td>\n",
       "      <td>102</td>\n",
       "    </tr>\n",
       "    <tr>\n",
       "      <th>ST. JOHNS RIVER (WELAKA)</th>\n",
       "      <td>20</td>\n",
       "      <td>43</td>\n",
       "    </tr>\n",
       "    <tr>\n",
       "      <th>T.M. GOODWIN WMA (BROADMOOR UNIT)</th>\n",
       "      <td>1</td>\n",
       "      <td>1</td>\n",
       "    </tr>\n",
       "    <tr>\n",
       "      <th>T.M. GOODWIN WMA (GOODWIN UNIT)</th>\n",
       "      <td>0</td>\n",
       "      <td>0</td>\n",
       "    </tr>\n",
       "  </tbody>\n",
       "</table>\n",
       "</div>"
      ],
      "text/plain": [
       "                                                   Distinct Locations  \\\n",
       "Area Name                                                               \n",
       "EVERGLADES & FRANCIS S. TAYLOR WMA (WCA 2)                          1   \n",
       "EVERGLADES & FRANCIS S. TAYLOR WMA (WCA 3)                          7   \n",
       "EVERGLADES & FRANCIS S. TAYLOR WMA (WCAs 2A & 2B)                   0   \n",
       "EVERGLADES & FRANCIS S. TAYLOR WMA (WCAs 3A & 3B)                   0   \n",
       "EVERGLADES WMA (WCA 2)                                              9   \n",
       "EVERGLADES WMA (WCA 3)                                             26   \n",
       "KISSIMMEE RIVER (POOL A)                                           13   \n",
       "KISSIMMEE RIVER (POOL C)                                            0   \n",
       "KISSIMMEE RIVER (POOL E)                                            8   \n",
       "LAKE OKEECHOBEE (EAST)                                             24   \n",
       "LAKE OKEECHOBEE (NORTH)                                            40   \n",
       "LAKE OKEECHOBEE (SOUTH)                                            80   \n",
       "LAKE OKEECHOBEE (WEST)                                             84   \n",
       "ST. JOHNS RIVER (LAKE HELL N' BLAZES)                              44   \n",
       "ST. JOHNS RIVER (LAKE POINSETT)                                    67   \n",
       "ST. JOHNS RIVER (PALATKA SOUTH)                                     1   \n",
       "ST. JOHNS RIVER (PALATKA)                                           4   \n",
       "ST. JOHNS RIVER (PUZZLE LAKE)                                      24   \n",
       "ST. JOHNS RIVER (WELAKA)                                           20   \n",
       "T.M. GOODWIN WMA (BROADMOOR UNIT)                                   1   \n",
       "T.M. GOODWIN WMA (GOODWIN UNIT)                                     0   \n",
       "\n",
       "                                                   Total Harvest  \n",
       "Area Name                                                         \n",
       "EVERGLADES & FRANCIS S. TAYLOR WMA (WCA 2)                     2  \n",
       "EVERGLADES & FRANCIS S. TAYLOR WMA (WCA 3)                     9  \n",
       "EVERGLADES & FRANCIS S. TAYLOR WMA (WCAs 2A & 2B)              0  \n",
       "EVERGLADES & FRANCIS S. TAYLOR WMA (WCAs 3A & 3B)              0  \n",
       "EVERGLADES WMA (WCA 2)                                        13  \n",
       "EVERGLADES WMA (WCA 3)                                        42  \n",
       "KISSIMMEE RIVER (POOL A)                                      26  \n",
       "KISSIMMEE RIVER (POOL C)                                       0  \n",
       "KISSIMMEE RIVER (POOL E)                                      10  \n",
       "LAKE OKEECHOBEE (EAST)                                        48  \n",
       "LAKE OKEECHOBEE (NORTH)                                       80  \n",
       "LAKE OKEECHOBEE (SOUTH)                                      231  \n",
       "LAKE OKEECHOBEE (WEST)                                       174  \n",
       "ST. JOHNS RIVER (LAKE HELL N' BLAZES)                         92  \n",
       "ST. JOHNS RIVER (LAKE POINSETT)                              314  \n",
       "ST. JOHNS RIVER (PALATKA SOUTH)                                1  \n",
       "ST. JOHNS RIVER (PALATKA)                                      5  \n",
       "ST. JOHNS RIVER (PUZZLE LAKE)                                102  \n",
       "ST. JOHNS RIVER (WELAKA)                                      43  \n",
       "T.M. GOODWIN WMA (BROADMOOR UNIT)                              1  \n",
       "T.M. GOODWIN WMA (GOODWIN UNIT)                                0  "
      ]
     },
     "execution_count": 33,
     "metadata": {},
     "output_type": "execute_result"
    }
   ],
   "source": [
    "clean_data[sub_area_filt].groupby('Area Name').Location.agg({'Distinct Locations' :  pd.Series.nunique,\n",
    "                    'Total Harvest' : pd.Series.count})\n",
    "\n"
   ]
  },
  {
   "cell_type": "markdown",
   "metadata": {},
   "source": [
    "\n",
    "<p>Let's take a look at the range of locations for a couple of these - should we just replace the area with the (sub area)?</p>\n"
   ]
  },
  {
   "cell_type": "code",
   "execution_count": 34,
   "metadata": {},
   "outputs": [
    {
     "name": "stderr",
     "output_type": "stream",
     "text": [
      "/home/tms/anaconda3/lib/python3.7/site-packages/ipykernel_launcher.py:1: UserWarning: Boolean Series key will be reindexed to match DataFrame index.\n",
      "  \"\"\"Entry point for launching an IPython kernel.\n"
     ]
    },
    {
     "data": {
      "text/plain": [
       "Location\n",
       "ACCROSS FROM WEL                  1\n",
       "FL                                2\n",
       "LITTLE LAKE GEORGE                2\n",
       "NE SIDE OF LITTLE LAKE GEORGE     2\n",
       "PRIVATE PROPERTY                  4\n",
       "SEVEN SISTERS IS                  1\n",
       "SPORTSMANS HARBOR AREA            1\n",
       "ST JOHNS                          1\n",
       "ST JOHNS RIVER                    2\n",
       "ST JOHNS RIVER SHELL HABOR        1\n",
       "ST JOHNS RIVER-WALAKA             1\n",
       "ST JOHNS WELKA                    2\n",
       "ST. JOHNS RIVER                   1\n",
       "St. Johns River                   1\n",
       "TURKEY ISLAND COVE                1\n",
       "WALAKA                            1\n",
       "WELAKA                           14\n",
       "WELATKA 506                       2\n",
       "WELEKA                            1\n",
       "WELKA                             2\n",
       "Name: Year, dtype: int64"
      ]
     },
     "execution_count": 34,
     "metadata": {},
     "output_type": "execute_result"
    }
   ],
   "source": [
    "clean_data[sub_area_filt][clean_data['Area Name'] == 'ST. JOHNS RIVER (WELAKA)'].groupby('Location').Year.count()\n",
    "\n"
   ]
  },
  {
   "cell_type": "markdown",
   "metadata": {},
   "source": [
    "\n",
    "<p>So we'll just call it WELAKA as location - too much detail since they'll all have the same area code. Ultimately go back to the area code.</p>\n",
    "<p>Also, looks like in most cases the location is unknown anyway</p>\n"
   ]
  },
  {
   "cell_type": "code",
   "execution_count": 35,
   "metadata": {},
   "outputs": [
    {
     "data": {
      "text/plain": [
       "Location\n",
       "502                                 6\n",
       "502 WASHINGTON                      1\n",
       "BREVARD                             1\n",
       "BREVARD COUNTY                      1\n",
       "Brevard                             1\n",
       "FL                                  1\n",
       "LAKE  POINCETT                      1\n",
       "LAKE  POINTSETTE                    1\n",
       "LAKE PAINSETTE                      1\n",
       "LAKE POINSET                        6\n",
       "LAKE POINSETE                       1\n",
       "LAKE POINSETT                      56\n",
       "LAKE POINSETT NORTH                 1\n",
       "LAKE POINSETTE                     15\n",
       "LAKE POINTSETT                      6\n",
       "LAKE PUINSATTA                      3\n",
       "LAKE WASH./ POINSETT                1\n",
       "LAKE WASHING 502                    1\n",
       "LAKE WASHINGTON                    72\n",
       "LAKE WASHINGTON 502                 1\n",
       "LAKE WASHINGTON DAM                 1\n",
       "LAKE WASHINGTON/POINSETT            1\n",
       "LAKE WINDER                        18\n",
       "LAKE WINER                          1\n",
       "LAKEPOINSETT                        1\n",
       "LK. WASHINGTON                      1\n",
       "Lake Harris                         1\n",
       "Lake Poinsett                       6\n",
       "Lake Poinsette                      3\n",
       "Lake poinsett                       1\n",
       "                                   ..\n",
       "POINSETTA                           2\n",
       "POINSETTE                           4\n",
       "POINTSET                            2\n",
       "POINTSETT                           4\n",
       "PONSETT                             1\n",
       "SAINT JOHNS RIVER                   1\n",
       "SOUTH END OF LAKE WASHINGTON        2\n",
       "ST JOHNS                            2\n",
       "ST JOHNS IN BREVARD (               1\n",
       "ST JOHNS NORTH RIVER                1\n",
       "ST JOHNS RIVER                     13\n",
       "ST JOHNS RIVER LAKE POINSETT        1\n",
       "ST JOHNS RIVER LAKE POINSETTE       3\n",
       "ST JOHNS RIVER LAKE WINDER          2\n",
       "ST. JOHN IN BREVARD                 1\n",
       "ST. JOHNS RIVER                     7\n",
       "ST. JOHNS RIVER (LAKE POINSETT)     1\n",
       "ST.JOHNS                            2\n",
       "UPPER ST. JOHN                      1\n",
       "UPPER ST. JOHNS                     2\n",
       "WASHINGTN                           1\n",
       "WASHINGTON                          5\n",
       "WASHINGTON 502                      4\n",
       "WASHINGTTON                         1\n",
       "WASHINTON                           1\n",
       "WINDER                              2\n",
       "WINDSER                             1\n",
       "lake Poinsette                      1\n",
       "lake poinset                        2\n",
       "lake poinsett                       1\n",
       "Name: Year, Length: 67, dtype: int64"
      ]
     },
     "execution_count": 35,
     "metadata": {},
     "output_type": "execute_result"
    }
   ],
   "source": [
    "clean_data[clean_data['Area Name'] == 'ST. JOHNS RIVER (LAKE POINSETT)' ].groupby('Location').Year.count()\n",
    "\n"
   ]
  },
  {
   "cell_type": "markdown",
   "metadata": {},
   "source": [
    "\n",
    "<p>Again, loads of locations, but the main two are Lake Poinsett and Lake Washington.</p>\n",
    "<p>What's strange is that these lakes aren't particularly near each other, so maybe the location is not actually that helpful.</p>\n",
    "<p>What we'll do is use the location to help indicate if the carcass was from a lake, river etc., but when looking for specific places, we'll only use the area</p>\n"
   ]
  },
  {
   "cell_type": "code",
   "execution_count": 36,
   "metadata": {},
   "outputs": [],
   "source": [
    "\n",
    "## simple regex function to generate new area columns\n",
    "\n",
    "def area_classifier(area_name, specified_area_type):\n",
    "    try:\n",
    "        if re.search(specified_area_type,area_name, re.I):\n",
    "            return True\n",
    "        else:\n",
    "            return False\n",
    "    except:\n",
    "        return False\n",
    "\n"
   ]
  },
  {
   "cell_type": "code",
   "execution_count": 37,
   "metadata": {},
   "outputs": [],
   "source": [
    "filtarea_names = ['River','Lake','County','WMA','Marsh','Pond', 'Unknown','Reservoir','^STA']\n",
    "\n"
   ]
  },
  {
   "cell_type": "code",
   "execution_count": 38,
   "metadata": {},
   "outputs": [],
   "source": [
    "filt_area_dict = {}\n",
    "\n",
    "for n in filtarea_names:\n",
    "    filt_area_dict[n]=clean_data['Area Name'].apply(lambda x: area_classifier(x, n)) \n",
    "\n",
    "\n",
    "## Make these boolean filters rather than columns on the dataframe\n",
    "## Start with locations where available then go on to areas\n",
    "## Little River Lake is a Lake, not a river.\n",
    "\n"
   ]
  },
  {
   "cell_type": "code",
   "execution_count": 39,
   "metadata": {},
   "outputs": [
    {
     "data": {
      "text/plain": [
       "array(['EVERGLADES WMA - 2', 'EVERGLADES WMA - 3', 'HOLEY LAND WMA',\n",
       "       'GUANA RIVER WMA', 'OCALA WMA', 'THREE LAKES WMA',\n",
       "       'EVERGLADES & FRANCIS S. TAYLOR WMA (WCAs 2A & 2B)',\n",
       "       'EVERGLADES & FRANCIS S. TAYLOR WMA (WCAs 3A & 3B)',\n",
       "       'T.M. GOODWIN WMA (BROADMOOR UNIT)',\n",
       "       'T.M. GOODWIN WMA (GOODWIN UNIT)', 'EVERGLADES WMA (WCA 2)',\n",
       "       'EVERGLADES WMA (WCA 3)', 'T.M. GOODWIN WMA GOODWIN UNIT)',\n",
       "       'EVERGLADES & FRANCIS S. TAYLOR WMA (WCA 2)',\n",
       "       'EVERGLADES & FRANCIS S. TAYLOR WMA (WCA 3)'], dtype=object)"
      ]
     },
     "execution_count": 39,
     "metadata": {},
     "output_type": "execute_result"
    }
   ],
   "source": [
    "clean_data[filt_area_dict['WMA']]['Area Name'].unique()"
   ]
  },
  {
   "cell_type": "code",
   "execution_count": 40,
   "metadata": {},
   "outputs": [],
   "source": [
    "filt_location_dict = {}\n",
    "filtlocation_names = ['River','Lake','County','WMA','Marsh','Pond', 'Unknown','Swamp','Creek','Canal','Springs']\n",
    "\n",
    "for n in filtlocation_names:\n",
    "    \n",
    "    filt_location_dict[n] = clean_data['Location'].apply(lambda x: area_classifier(x, n))\n",
    "\n"
   ]
  },
  {
   "cell_type": "code",
   "execution_count": 41,
   "metadata": {},
   "outputs": [
    {
     "name": "stderr",
     "output_type": "stream",
     "text": [
      "/home/tms/anaconda3/lib/python3.7/site-packages/ipykernel_launcher.py:1: UserWarning: Boolean Series key will be reindexed to match DataFrame index.\n",
      "  \"\"\"Entry point for launching an IPython kernel.\n"
     ]
    },
    {
     "data": {
      "text/html": [
       "<div>\n",
       "<style scoped>\n",
       "    .dataframe tbody tr th:only-of-type {\n",
       "        vertical-align: middle;\n",
       "    }\n",
       "\n",
       "    .dataframe tbody tr th {\n",
       "        vertical-align: top;\n",
       "    }\n",
       "\n",
       "    .dataframe thead th {\n",
       "        text-align: right;\n",
       "    }\n",
       "</style>\n",
       "<table border=\"1\" class=\"dataframe\">\n",
       "  <thead>\n",
       "    <tr style=\"text-align: right;\">\n",
       "      <th></th>\n",
       "      <th>Year</th>\n",
       "      <th>Area Number</th>\n",
       "      <th>Area Name</th>\n",
       "      <th>Carcass Size</th>\n",
       "      <th>Harvest Date</th>\n",
       "      <th>Location</th>\n",
       "      <th>Harvest_Date</th>\n",
       "      <th>Month</th>\n",
       "      <th>Day</th>\n",
       "      <th>DayofWeek</th>\n",
       "      <th>Dayname</th>\n",
       "    </tr>\n",
       "  </thead>\n",
       "  <tbody>\n",
       "    <tr>\n",
       "      <th>78559</th>\n",
       "      <td>2014.0</td>\n",
       "      <td>835</td>\n",
       "      <td>LAKE COUNTY</td>\n",
       "      <td>3.5560</td>\n",
       "      <td>09-27-2014</td>\n",
       "      <td>OKAHUMPKA SWAMP</td>\n",
       "      <td>2014-09-27</td>\n",
       "      <td>9.0</td>\n",
       "      <td>27.0</td>\n",
       "      <td>5.0</td>\n",
       "      <td>Sat</td>\n",
       "    </tr>\n",
       "    <tr>\n",
       "      <th>78675</th>\n",
       "      <td>2014.0</td>\n",
       "      <td>835</td>\n",
       "      <td>LAKE COUNTY</td>\n",
       "      <td>2.6924</td>\n",
       "      <td>09-27-2014</td>\n",
       "      <td>OKAHUMPKA SWAMP</td>\n",
       "      <td>2014-09-27</td>\n",
       "      <td>9.0</td>\n",
       "      <td>27.0</td>\n",
       "      <td>5.0</td>\n",
       "      <td>Sat</td>\n",
       "    </tr>\n",
       "    <tr>\n",
       "      <th>85658</th>\n",
       "      <td>2015.0</td>\n",
       "      <td>835</td>\n",
       "      <td>LAKE COUNTY</td>\n",
       "      <td>2.1336</td>\n",
       "      <td>10-17-2015</td>\n",
       "      <td>GREEN SWAMP</td>\n",
       "      <td>2015-10-17</td>\n",
       "      <td>10.0</td>\n",
       "      <td>17.0</td>\n",
       "      <td>5.0</td>\n",
       "      <td>Sat</td>\n",
       "    </tr>\n",
       "    <tr>\n",
       "      <th>85703</th>\n",
       "      <td>2015.0</td>\n",
       "      <td>835</td>\n",
       "      <td>LAKE COUNTY</td>\n",
       "      <td>1.7018</td>\n",
       "      <td>10-11-2015</td>\n",
       "      <td>GREEN SWAMP</td>\n",
       "      <td>2015-10-11</td>\n",
       "      <td>10.0</td>\n",
       "      <td>11.0</td>\n",
       "      <td>6.0</td>\n",
       "      <td>Sun</td>\n",
       "    </tr>\n",
       "  </tbody>\n",
       "</table>\n",
       "</div>"
      ],
      "text/plain": [
       "         Year  Area Number    Area Name  Carcass Size Harvest Date  \\\n",
       "78559  2014.0          835  LAKE COUNTY        3.5560   09-27-2014   \n",
       "78675  2014.0          835  LAKE COUNTY        2.6924   09-27-2014   \n",
       "85658  2015.0          835  LAKE COUNTY        2.1336   10-17-2015   \n",
       "85703  2015.0          835  LAKE COUNTY        1.7018   10-11-2015   \n",
       "\n",
       "              Location Harvest_Date  Month   Day  DayofWeek Dayname  \n",
       "78559  OKAHUMPKA SWAMP   2014-09-27    9.0  27.0        5.0     Sat  \n",
       "78675  OKAHUMPKA SWAMP   2014-09-27    9.0  27.0        5.0     Sat  \n",
       "85658      GREEN SWAMP   2015-10-17   10.0  17.0        5.0     Sat  \n",
       "85703      GREEN SWAMP   2015-10-11   10.0  11.0        6.0     Sun  "
      ]
     },
     "execution_count": 41,
     "metadata": {},
     "output_type": "execute_result"
    }
   ],
   "source": [
    "clean_data[filt_location_dict['Swamp']][filt_area_dict['Lake']]"
   ]
  },
  {
   "cell_type": "code",
   "execution_count": 42,
   "metadata": {},
   "outputs": [
    {
     "data": {
      "text/plain": [
       "{'River': 4282,\n",
       " 'Lake': 6234,\n",
       " 'County': 132,\n",
       " 'WMA': 34,\n",
       " 'Marsh': 46,\n",
       " 'Pond': 304,\n",
       " 'Unknown': 1,\n",
       " 'Swamp': 149,\n",
       " 'Creek': 1544,\n",
       " 'Canal': 573,\n",
       " 'Springs': 44}"
      ]
     },
     "execution_count": 42,
     "metadata": {},
     "output_type": "execute_result"
    }
   ],
   "source": [
    "{i:filt_location_dict[i].sum() for i in filt_location_dict}"
   ]
  },
  {
   "cell_type": "code",
   "execution_count": 43,
   "metadata": {},
   "outputs": [
    {
     "data": {
      "text/plain": [
       "{('River', 'Lake'): 19,\n",
       " ('River', 'County'): 9,\n",
       " ('River', 'Swamp'): 36,\n",
       " ('River', 'Creek'): 9,\n",
       " ('River', 'Canal'): 3,\n",
       " ('River', 'Springs'): 3,\n",
       " ('Lake', 'County'): 12,\n",
       " ('Lake', 'WMA'): 20,\n",
       " ('Lake', 'Marsh'): 12,\n",
       " ('Lake', 'Pond'): 7,\n",
       " ('Lake', 'Swamp'): 5,\n",
       " ('Lake', 'Creek'): 19,\n",
       " ('Lake', 'Canal'): 45,\n",
       " ('Lake', 'Springs'): 2,\n",
       " ('County', 'Pond'): 6,\n",
       " ('County', 'Creek'): 2,\n",
       " ('County', 'Canal'): 16,\n",
       " ('County', 'Springs'): 2,\n",
       " ('Pond', 'Swamp'): 1,\n",
       " ('Pond', 'Creek'): 12,\n",
       " ('Pond', 'Canal'): 19,\n",
       " ('Swamp', 'Creek'): 40,\n",
       " ('Creek', 'Canal'): 6,\n",
       " ('Creek', 'Springs'): 16}"
      ]
     },
     "execution_count": 43,
     "metadata": {},
     "output_type": "execute_result"
    }
   ],
   "source": [
    "## Find anything which has a double count in location (e.g. Newmans lake will look like a 'wma' and a 'lake') \n",
    "from itertools import combinations as cmb\n",
    "\n",
    "overlap_locations = {c:(filt_location_dict[c[0]] & filt_location_dict[c[1]]) \n",
    "                     for c in cmb(filt_location_dict.keys(),2)}\n",
    "\n",
    "overlap_locations_counts = {l:overlap_locations[l].sum() for l in overlap_locations if overlap_locations[l].sum()!=0}\n",
    "\n",
    "overlap_locations_counts\n",
    "\n"
   ]
  },
  {
   "cell_type": "code",
   "execution_count": 44,
   "metadata": {},
   "outputs": [
    {
     "data": {
      "text/plain": [
       "{('River',\n",
       "  'Lake'): array(['ST JOHNS RIVER LAKE POINSETT', 'ST JOHNS RIVER LAKE WINDER',\n",
       "        'ST. JOHNS RIVER (LAKE POINSETT)', 'LAKE HARNEY ST JOHNS RIVER',\n",
       "        'LAKE HARNEY (ST. JOHNS RIVER)', 'ST HONS RIVER LAKE HARNEY',\n",
       "        'KISS RIVER NORTH LAKE', 'SMOKEHOUSE LAKE/CHOCTACHATEE RIVER',\n",
       "        'ST JOHNS RIVER/LAKE HELL N BLAZES',\n",
       "        'ST JOHNS RIVER LAKE POINSETTE', 'ST JOHNS RIVER/LAKE HARNEY',\n",
       "        'MANATEE RIVER/LAKE MANATEE EAST OF VERNA BETHANY R',\n",
       "        'choctawhatchee river-- inside lake', 'LITTLE RIVER LAKE'],\n",
       "       dtype=object),\n",
       " ('River',\n",
       "  'County'): array(['CLAY COUNTY, ST. JOHNS RIVER', 'NORTH INDIAN RIVER COUNTY',\n",
       "        'NASSAU COUNTY, ST MARYS RIVER', 'OKALOOSA COUNTY, YELLOW RIVER',\n",
       "        'River/creek off of county rd 67',\n",
       "        'Escambia River (santa rosa county side)',\n",
       "        'escambia River (santa rosa county side)'], dtype=object),\n",
       " ('River', 'Swamp'): array(['SIMPSON RIVER, ESCAMBIA RIVER SWAMP',\n",
       "        'WHITE RIVER, ESCAMBIA RIVER SWAMP', 'WITHLACOOCHEE RIVER SWAMP',\n",
       "        'RIVER SWAMP'], dtype=object),\n",
       " ('River', 'Creek'): array(['St. Johns River Deep Creek',\n",
       "        'JUST OFF APALACH. RIVER IN GRASSY CREEK',\n",
       "        'SMOKEHOUSE CREEK-BROTHERS RIVER', 'ST. JOHNS RIVER, DEEP CREEK',\n",
       "        'ST. JOHNS RIVER, TROUT CREEK', 'River/creek off of county rd 67',\n",
       "        'St. Johns River north of deep creek',\n",
       "        'Tocoi Creek off of St. Johns River'], dtype=object),\n",
       " ('River',\n",
       "  'Canal'): array(['KISSIMMEE RIVER CANAL', 'ST JOHNS RIVER UPPER BASIN CANALS'],\n",
       "       dtype=object),\n",
       " ('River',\n",
       "  'Springs'): array(['Santa Fe River. High springs', 'LITTLE RIVER SPRINGS'],\n",
       "       dtype=object),\n",
       " ('Lake', 'County'): array(['Lake County', 'lake county blue springs',\n",
       "        'lake county blue springs area', 'Polk County Lake', 'LAKE COUNTY',\n",
       "        'PRIVATE POND IN SOUTH LAKE COUNTY', 'PIVATE LAKE IN LEE COUNTY',\n",
       "        'Lake county/ lake denham', 'Lake county / private land',\n",
       "        'polk county private lake no name'], dtype=object),\n",
       " ('Lake', 'WMA'): array(['NEWMANS LAKE'], dtype=object),\n",
       " ('Lake',\n",
       "  'Marsh'): array(['Lettuce Lake (Murphy Marsh)', 'LETTUCE LAKE (MURPHY MARSH)',\n",
       "        'LETTUCE LAKE / MURPHY MARSH', 'MURPHY MARSH (LETTUCE LAKE)',\n",
       "        'MURPHY MARSH/LETTUCE LAKE', 'LETTUCE LAKE(MURPHYMARSH)',\n",
       "        'LAKE MATTIE MARSH'], dtype=object),\n",
       " ('Lake',\n",
       "  'Pond'): array(['LEISURE LAKE POND', 'PRIVATE PROPERTY (POND) SR 70 LAKE PLACID',\n",
       "        'PRIVATE POND IN SOUTH LAKE COUNTY', 'Private Pond Lakeland',\n",
       "        'Private Pond LakeLand', 'POND ON MOORE RD LAKELAND',\n",
       "        'BRACEY RD N LAKELAND POND'], dtype=object),\n",
       " ('Lake', 'Swamp'): array(['GAP LAKE SWAMP', 'SWAMP, LAKE'], dtype=object),\n",
       " ('Lake',\n",
       "  'Creek'): array(['ECONFINA CREEK, DEERPOINT LAKE', 'LAKE MARION CREEK',\n",
       "        'BLAKESLEE CREEK', 'LAKE BUTLER CREEK', 'LAKE ASHBY CREEK'],\n",
       "       dtype=object),\n",
       " ('Lake', 'Canal'): array(['LAKE JUNE CANAL', 'INDAIN LAKE ESTATES CANAL',\n",
       "        'RIM CANAL LAKE OKEECHOBEE', 'LAKE OKEECHOBEE RIM CANAL',\n",
       "        'GASPRILLIA ROAD CANAL @HOLIDAY LAKES', 'LAKE GENTRY CANAL',\n",
       "        'CANAL OFF LAKE CYPRESS', 'WEST LAKE CANAL',\n",
       "        'WEST LAKE TOHO PRIVATE CANAL',\n",
       "        'PRIVATE CANAL OFF OF WEST LAKE TOHO',\n",
       "        'Canal adjacent to Lake Okeechobee', 'CANAL LAKE',\n",
       "        'johns lake canal', 'Canal going from w lake toho to cypress lake',\n",
       "        'canal that goes from w lake toho to cypress lake',\n",
       "        'Lake cypress canals', 'Lake gentry canal', 'GANT LAKE CANAL',\n",
       "        'LAKE ASHBY CANAL', 'LAKE TARPON CANAL'], dtype=object),\n",
       " ('Lake',\n",
       "  'Springs'): array(['lake county blue springs', 'lake county blue springs area'],\n",
       "       dtype=object),\n",
       " ('County', 'Pond'): array(['NE CORNER HOLMES COUNTY, BAXLEY POND',\n",
       "        'PRIVATE POND IN SOUTH LAKE COUNTY',\n",
       "        'private pond eastern Lafayette County',\n",
       "        'Washington County / Private Property Pond HWY 77',\n",
       "        'Back Waters of Gap Pond hwy 77 Washington County'], dtype=object),\n",
       " ('County', 'Creek'): array(['River/creek off of county rd 67',\n",
       "        'creek of of county rd 67 in franklin county'], dtype=object),\n",
       " ('County',\n",
       "  'Canal'): array(['Canals off of interceptor lagoon Charlotte county',\n",
       "        'GULF COUNTY CANAL', 'COUNTY LINE CANAL'], dtype=object),\n",
       " ('County',\n",
       "  'Springs'): array(['lake county blue springs', 'lake county blue springs area'],\n",
       "       dtype=object),\n",
       " ('Pond', 'Swamp'): array(['Swamp Pond'], dtype=object),\n",
       " ('Pond', 'Creek'): array(['SWIFT CREEK POND'], dtype=object),\n",
       " ('Pond',\n",
       "  'Canal'): array(['Harney Pond Canal', 'Harne Pond Canal', 'Hawney Pond Canal',\n",
       "        'HARNEY POND CANAL', 'Near harney pond canal'], dtype=object),\n",
       " ('Swamp',\n",
       "  'Creek'): array(['REEDY CREEK SWAMP', 'RICE CREEK SWAMP'], dtype=object),\n",
       " ('Creek', 'Canal'): array(['FIRST EATEN CREEK CANAL', 'TAYLOR CREEK CANAL',\n",
       "        'CANOE CREEK CANAL'], dtype=object),\n",
       " ('Creek', 'Springs'): array(['ALEXANDER SPRINGS CREEK'], dtype=object)}"
      ]
     },
     "execution_count": 44,
     "metadata": {},
     "output_type": "execute_result"
    }
   ],
   "source": [
    "overlap_locationsdata = {l:clean_data.Location[overlap_locations[l]].unique() for l in overlap_locations if overlap_locations[l].sum()!=0}\n",
    "\n",
    "overlap_locationsdata\n",
    "\n"
   ]
  },
  {
   "cell_type": "code",
   "execution_count": 45,
   "metadata": {},
   "outputs": [
    {
     "data": {
      "text/plain": [
       "{('River', 'Lake'): 9763,\n",
       " ('River', 'County'): 39,\n",
       " ('River', 'WMA'): 153,\n",
       " ('Lake', 'County'): 2466,\n",
       " ('Lake', 'WMA'): 176}"
      ]
     },
     "execution_count": 45,
     "metadata": {},
     "output_type": "execute_result"
    }
   ],
   "source": [
    "## Find anything which has a double count in Area (e.g. Newmans lake)\n",
    "\n",
    "overlap_area = {c:(filt_area_dict[c[0]] & filt_area_dict[c[1]]) \n",
    "                     for c in cmb(filt_area_dict.keys(),2)}\n",
    "\n",
    "overlap_area_counts = {l:overlap_area[l].sum() for l in overlap_area if overlap_area[l].sum()!=0}\n",
    "\n",
    "overlap_area_counts\n",
    "\n"
   ]
  },
  {
   "cell_type": "code",
   "execution_count": 46,
   "metadata": {},
   "outputs": [
    {
     "data": {
      "text/plain": [
       "{('River', 'Lake'): array([\"ST. JOHNS RIVER (LAKE HELL N' BLAZES)\",\n",
       "        'ST. JOHNS RIVER (LAKE POINSETT)', 'ST. JOHNS RIVER (PUZZLE LAKE)'],\n",
       "       dtype=object),\n",
       " ('River', 'County'): array(['INDIAN RIVER COUNTY'], dtype=object),\n",
       " ('River', 'WMA'): array(['GUANA RIVER WMA'], dtype=object),\n",
       " ('Lake', 'County'): array(['LAKE COUNTY'], dtype=object),\n",
       " ('Lake', 'WMA'): array(['THREE LAKES WMA'], dtype=object)}"
      ]
     },
     "execution_count": 46,
     "metadata": {},
     "output_type": "execute_result"
    }
   ],
   "source": [
    "overlap_areadata = {l:clean_data['Area Name'][overlap_area[l]].unique() for l in overlap_area if overlap_area[l].sum()!=0}\n",
    "\n",
    "overlap_areadata\n",
    "\n"
   ]
  },
  {
   "cell_type": "markdown",
   "metadata": {},
   "source": [
    "<h3 id=\"This-counting-thing-is-never-going-to-be-100%-correct,-unless-we-went-through-and-relabelled-these-by-hand.\">This counting thing is never going to be 100% correct, unless we went through and relabelled these by hand.<a class=\"anchor-link\" href=\"#This-counting-thing-is-never-going-to-be-100%-correct,-unless-we-went-through-and-relabelled-these-by-hand.\">¶</a></h3><p>We're not going to do that, so we'll make clear a few <em>sensible</em> rules that we're following to do the counting:</p>\n",
    "<h4 id=\"1.-Prioritise-the-Location-before-the-Area\">1. Prioritise the Location before the Area<a class=\"anchor-link\" href=\"#1.-Prioritise-the-Location-before-the-Area\">¶</a></h4><h4 id=\"2.-Dealing-with-Double-labelled-Locations\">2. Dealing with Double labelled <em>Locations</em><a class=\"anchor-link\" href=\"#2.-Dealing-with-Double-labelled-Locations\">¶</a></h4><ul>\n",
    "<li>If it's a county, use the other label</li>\n",
    "<li>If it's a lake and a river, call it a lake</li>\n",
    "<li>If it's a lake and a WMA, it's a lake</li>\n",
    "<li>If it's labelled as a creek, pond, canal, swamp or marsh and something else, ignore the other thing. </li>\n",
    "</ul>\n",
    "<h4 id=\"3.-Dealing-with-double-labelled-Areas\">3. Dealing with double labelled <em>Areas</em><a class=\"anchor-link\" href=\"#3.-Dealing-with-double-labelled-Areas\">¶</a></h4><ul>\n",
    "<li>If it's a county, use the other label</li>\n",
    "<li>If it's a lake and a river, it's a lake</li>\n",
    "<li>If it's a WMA and something else, ignore the other thing</li>\n",
    "</ul>\n",
    "<h4 id=\"4.-Where-there-are-different-labels-across-the-Area-and-Location,-take-the-Location\">4. Where there are different labels across the Area and Location, take the Location<a class=\"anchor-link\" href=\"#4.-Where-there-are-different-labels-across-the-Area-and-Location,-take-the-Location\">¶</a></h4><h4 id=\"5.-If-you-still-can't-classify-it,-it's-just-somewhere-in-the-county.-Hollows,-pools,-ditches-or-2-miles-down-from-Eureka,-them-gators-get-everywhere!\">5. If you still can't classify it, it's just somewhere in the county. Hollows, pools, ditches or 2 miles down from Eureka, them gators get everywhere!<a class=\"anchor-link\" href=\"#5.-If-you-still-can't-classify-it,-it's-just-somewhere-in-the-county.-Hollows,-pools,-ditches-or-2-miles-down-from-Eureka,-them-gators-get-everywhere!\">¶</a></h4>\n"
   ]
  },
  {
   "cell_type": "code",
   "execution_count": 47,
   "metadata": {},
   "outputs": [],
   "source": [
    "conditions = [\n",
    "    filt_location_dict['Creek'],\n",
    "    filt_location_dict['Canal'],\n",
    "    filt_location_dict['Springs'],\n",
    "    filt_location_dict['Pond'],\n",
    "    filt_location_dict['Swamp'],\n",
    "    filt_location_dict['Marsh'],\n",
    "    filt_location_dict['Lake'],\n",
    "    filt_location_dict['River'],\n",
    "    filt_location_dict['WMA'],\n",
    "    filt_area_dict['WMA'],\n",
    "    filt_area_dict['^STA'],\n",
    "    filt_area_dict['Marsh'],\n",
    "    filt_area_dict['Reservoir'],\n",
    "    (filt_area_dict['Lake']) & (filt_area_dict['County']),\n",
    "    (filt_area_dict['River']) & (filt_area_dict['County']),\n",
    "    filt_area_dict['Lake'],\n",
    "    filt_area_dict['River'],\n",
    "    filt_area_dict['County']]\n",
    "\n",
    "choices = ['Creek','Canal','Springs','Pond', 'Swamp', 'Marsh','Lake','River','WMA','WMA','STA','Marsh','Reservoir','County','County','Lake','River','County']\n",
    "\n",
    "clean_data['geography'] = np.select(conditions, choices, default='Unknown')\n",
    "\n"
   ]
  },
  {
   "cell_type": "code",
   "execution_count": 48,
   "metadata": {},
   "outputs": [
    {
     "data": {
      "text/plain": [
       "463"
      ]
     },
     "execution_count": 48,
     "metadata": {},
     "output_type": "execute_result"
    }
   ],
   "source": [
    "clean_data[clean_data['geography'] == 'Unknown']['Carcass Size'].count()\n",
    "\n"
   ]
  },
  {
   "cell_type": "code",
   "execution_count": 49,
   "metadata": {},
   "outputs": [
    {
     "data": {
      "text/plain": [
       "Area Number  Area Name                             \n",
       "542          BLUE CYPRESS WATER MANAGEMENT AREA        340\n",
       "112          TENEROC FMA                                39\n",
       "401          A.R.M. LOXAHATCHEE NWR                     36\n",
       "546          T.M. GOODWIN WATERFOWL MANAGEMENT AREA     29\n",
       "112          TENOROC FMA                                15\n",
       "839          LIBERTY                                     2\n",
       "819          FRANKLIN                                    2\n",
       "Name: Carcass Size, dtype: int64"
      ]
     },
     "execution_count": 49,
     "metadata": {},
     "output_type": "execute_result"
    }
   ],
   "source": [
    "### So we've got about 0.5% carcasses with no geography\n",
    "\n",
    "clean_data[clean_data['geography'] == 'Unknown'].groupby(['Area Number','Area Name'])['Carcass Size'].count().sort_values(ascending = False)\n",
    "\n"
   ]
  },
  {
   "cell_type": "code",
   "execution_count": 50,
   "metadata": {},
   "outputs": [
    {
     "data": {
      "text/plain": [
       "<matplotlib.axes._subplots.AxesSubplot at 0x7f38e83cfac8>"
      ]
     },
     "execution_count": 50,
     "metadata": {},
     "output_type": "execute_result"
    },
    {
     "data": {
      "image/png": "[encoded data removed]",
      "text/plain": [
       "<Figure size 432x288 with 1 Axes>"
      ]
     },
     "metadata": {
      "needs_background": "light"
     },
     "output_type": "display_data"
    }
   ],
   "source": [
    "clean_data.groupby('geography')['Carcass Size'].count().sort_values(ascending = False).plot(kind = 'bar', \n",
    "                                                                                            title = 'Carcass count by geography')\n",
    "\n"
   ]
  },
  {
   "cell_type": "code",
   "execution_count": 51,
   "metadata": {},
   "outputs": [
    {
     "data": {
      "text/plain": [
       "<matplotlib.axes._subplots.AxesSubplot at 0x7f38e3600a58>"
      ]
     },
     "execution_count": 51,
     "metadata": {},
     "output_type": "execute_result"
    },
    {
     "data": {
      "image/png": "[encoded data removed]",
      "text/plain": [
       "<Figure size 432x288 with 1 Axes>"
      ]
     },
     "metadata": {
      "needs_background": "light"
     },
     "output_type": "display_data"
    }
   ],
   "source": [
    "clean_data[clean_data['geography'] == 'Lake'].groupby('Area Name')['Carcass Size'\n",
    "                                            ].count().sort_values(ascending = False)[:25].plot(kind = 'bar', \n",
    "                                                                                    title = 'Carcass count by Lake Area')\n",
    "\n"
   ]
  },
  {
   "cell_type": "code",
   "execution_count": 52,
   "metadata": {
    "scrolled": false
   },
   "outputs": [
    {
     "data": {
      "image/png": "[encoded data removed]",
      "text/plain": [
       "<Figure size 576x1800 with 12 Axes>"
      ]
     },
     "metadata": {
      "needs_background": "light"
     },
     "output_type": "display_data"
    }
   ],
   "source": [
    "fig, ((ax1,ax2,ax3),(ax4,ax5,ax6),(ax7,ax8,ax9),(ax10,ax11,ax12)) = plt.subplots(4,3,figsize = (8,25))\n",
    "axes = [ax1,ax2,ax3,ax4,ax5,ax6,ax7,ax8,ax9,ax10,ax11,ax12]\n",
    "\n",
    "geography_names = list(clean_data['geography'].unique())\n",
    "\n",
    "geography_names.remove('Unknown')\n",
    "\n",
    "for i, area in enumerate(geography_names):\n",
    "    try:\n",
    "        d = clean_data[clean_data.geography == area].groupby(['Area Name'])['Carcass Size'\n",
    "                                ].count().sort_values(ascending = False)\n",
    "        if len(d) > 10:\n",
    "            d[:10].plot(ax = axes[i],kind = 'bar', title = 'Top 10 %s' %area)\n",
    "\n",
    "        else:\n",
    "            d.plot(ax = axes[i],kind = 'bar', title = 'Top 10 %s' %area)\n",
    "    except:\n",
    "        pass\n",
    "    \n",
    "    \n",
    "plt.tight_layout()\n",
    "plt.show()\n",
    "\n"
   ]
  },
  {
   "cell_type": "markdown",
   "metadata": {},
   "source": [
    "\n",
    "<h3 id=\"Range-of-sizes\">Range of sizes<a class=\"anchor-link\" href=\"#Range-of-sizes\">¶</a></h3>\n"
   ]
  },
  {
   "cell_type": "code",
   "execution_count": 53,
   "metadata": {},
   "outputs": [],
   "source": [
    "\n",
    "#average size over time\n",
    "#range of sizes vs geography\n",
    "#range of sizes vs top locations\n",
    "\n"
   ]
  },
  {
   "cell_type": "code",
   "execution_count": 54,
   "metadata": {},
   "outputs": [],
   "source": [
    "## first off, identify any lines where the Carcass Size is 0\n",
    "\n",
    "zero_size = clean_data[clean_data['Carcass Size']==0].index\n",
    "\n",
    "## fill these missing data points with the average Carcass Size\n",
    "\n",
    "clean_data.loc[zero_size,'Carcass Size'] = clean_data[clean_data['Carcass Size']!=0]['Carcass Size'].mean()\n",
    "\n"
   ]
  },
  {
   "cell_type": "code",
   "execution_count": 55,
   "metadata": {},
   "outputs": [
    {
     "data": {
      "text/plain": [
       "<matplotlib.axes._subplots.AxesSubplot at 0x7f38e35bef28>"
      ]
     },
     "execution_count": 55,
     "metadata": {},
     "output_type": "execute_result"
    },
    {
     "data": {
      "image/png": "[encoded data removed]",
      "text/plain": [
       "<Figure size 432x288 with 1 Axes>"
      ]
     },
     "metadata": {
      "needs_background": "light"
     },
     "output_type": "display_data"
    }
   ],
   "source": [
    "clean_data['Carcass Size'].plot(kind='box')\n",
    "\n"
   ]
  },
  {
   "cell_type": "code",
   "execution_count": 56,
   "metadata": {},
   "outputs": [
    {
     "data": {
      "text/html": [
       "<div>\n",
       "<style scoped>\n",
       "    .dataframe tbody tr th:only-of-type {\n",
       "        vertical-align: middle;\n",
       "    }\n",
       "\n",
       "    .dataframe tbody tr th {\n",
       "        vertical-align: top;\n",
       "    }\n",
       "\n",
       "    .dataframe thead th {\n",
       "        text-align: right;\n",
       "    }\n",
       "</style>\n",
       "<table border=\"1\" class=\"dataframe\">\n",
       "  <thead>\n",
       "    <tr style=\"text-align: right;\">\n",
       "      <th></th>\n",
       "      <th>Year</th>\n",
       "      <th>Area Number</th>\n",
       "      <th>Area Name</th>\n",
       "      <th>Carcass Size</th>\n",
       "      <th>Harvest Date</th>\n",
       "      <th>Location</th>\n",
       "      <th>Harvest_Date</th>\n",
       "      <th>Month</th>\n",
       "      <th>Day</th>\n",
       "      <th>DayofWeek</th>\n",
       "      <th>Dayname</th>\n",
       "      <th>geography</th>\n",
       "    </tr>\n",
       "  </thead>\n",
       "  <tbody>\n",
       "    <tr>\n",
       "      <th>44996</th>\n",
       "      <td>2010.0</td>\n",
       "      <td>502</td>\n",
       "      <td>ST. JOHNS RIVER (LAKE POINSETT)</td>\n",
       "      <td>4.3434</td>\n",
       "      <td>10-31-2010</td>\n",
       "      <td>NaN</td>\n",
       "      <td>2010-10-31</td>\n",
       "      <td>10.0</td>\n",
       "      <td>31.0</td>\n",
       "      <td>6.0</td>\n",
       "      <td>Sun</td>\n",
       "      <td>Lake</td>\n",
       "    </tr>\n",
       "    <tr>\n",
       "      <th>78315</th>\n",
       "      <td>2014.0</td>\n",
       "      <td>828</td>\n",
       "      <td>HIGHLANDS COUNTY</td>\n",
       "      <td>4.3434</td>\n",
       "      <td>10-28-2014</td>\n",
       "      <td>LITTLE RED WATER LAKE</td>\n",
       "      <td>2014-10-28</td>\n",
       "      <td>10.0</td>\n",
       "      <td>28.0</td>\n",
       "      <td>1.0</td>\n",
       "      <td>Tue</td>\n",
       "      <td>Lake</td>\n",
       "    </tr>\n",
       "  </tbody>\n",
       "</table>\n",
       "</div>"
      ],
      "text/plain": [
       "         Year  Area Number                        Area Name  Carcass Size  \\\n",
       "44996  2010.0          502  ST. JOHNS RIVER (LAKE POINSETT)        4.3434   \n",
       "78315  2014.0          828                 HIGHLANDS COUNTY        4.3434   \n",
       "\n",
       "      Harvest Date               Location Harvest_Date  Month   Day  \\\n",
       "44996   10-31-2010                    NaN   2010-10-31   10.0  31.0   \n",
       "78315   10-28-2014  LITTLE RED WATER LAKE   2014-10-28   10.0  28.0   \n",
       "\n",
       "       DayofWeek Dayname geography  \n",
       "44996        6.0     Sun      Lake  \n",
       "78315        1.0     Tue      Lake  "
      ]
     },
     "execution_count": 56,
     "metadata": {},
     "output_type": "execute_result"
    }
   ],
   "source": [
    "## Identify the biggest catches ever\n",
    "\n",
    "clean_data[clean_data['Carcass Size'] == clean_data['Carcass Size'].max()]\n",
    "\n"
   ]
  },
  {
   "cell_type": "code",
   "execution_count": 57,
   "metadata": {},
   "outputs": [
    {
     "data": {
      "text/plain": [
       "Area Name\n",
       "LAKE GEORGE               10\n",
       "PUTNAM COUNTY              8\n",
       "LAKE JESUP                 5\n",
       "LAKE TOHOPEKALIGA          5\n",
       "LAKE COUNTY                5\n",
       "HIGHLANDS COUNTY           5\n",
       "CRESCENT LAKE              4\n",
       "LAKE OKEECHOBEE (WEST)     4\n",
       "LAKE GRIFFIN               3\n",
       "KISSIMMEE RIVER            3\n",
       "Name: Carcass Size, dtype: int64"
      ]
     },
     "execution_count": 57,
     "metadata": {},
     "output_type": "execute_result"
    }
   ],
   "source": [
    "## Which locations have the most 4m (14 feet) or greater alligators?\n",
    "\n",
    "clean_data[clean_data['Carcass Size'] >= 4].groupby(['Area Name'])['Carcass Size'].count().sort_values(ascending = False)[:10]\n",
    "\n"
   ]
  },
  {
   "cell_type": "code",
   "execution_count": 58,
   "metadata": {},
   "outputs": [
    {
     "data": {
      "text/plain": [
       "<matplotlib.axes._subplots.AxesSubplot at 0x7f38e2849080>"
      ]
     },
     "execution_count": 58,
     "metadata": {},
     "output_type": "execute_result"
    },
    {
     "data": {
      "image/png": "[encoded data removed]",
      "text/plain": [
       "<Figure size 432x288 with 1 Axes>"
      ]
     },
     "metadata": {
      "needs_background": "light"
     },
     "output_type": "display_data"
    }
   ],
   "source": [
    "clean_data['Carcass Size'].plot(kind='hist',bins = 50, title = 'Distribution of catches by carcass size')\n",
    "\n"
   ]
  },
  {
   "cell_type": "code",
   "execution_count": 59,
   "metadata": {},
   "outputs": [
    {
     "data": {
      "text/plain": [
       "<matplotlib.axes._subplots.AxesSubplot at 0x7f38e27a6c50>"
      ]
     },
     "execution_count": 59,
     "metadata": {},
     "output_type": "execute_result"
    },
    {
     "data": {
      "image/png": "[encoded data removed]",
      "text/plain": [
       "<Figure size 432x288 with 1 Axes>"
      ]
     },
     "metadata": {
      "needs_background": "light"
     },
     "output_type": "display_data"
    }
   ],
   "source": [
    "df_by_year['Carcass Size'].mean().plot(title = 'Carcass Size by month')\n",
    "\n"
   ]
  },
  {
   "cell_type": "markdown",
   "metadata": {},
   "source": [
    "\n",
    "<p>Interesting to note the dip in size around 2010.</p>\n"
   ]
  },
  {
   "cell_type": "code",
   "execution_count": 65,
   "metadata": {},
   "outputs": [
    {
     "data": {
      "text/plain": [
       "<matplotlib.axes._subplots.AxesSubplot at 0x7f38e2288400>"
      ]
     },
     "execution_count": 65,
     "metadata": {},
     "output_type": "execute_result"
    },
    {
     "data": {
      "image/png": "[encoded data removed]",
      "text/plain": [
       "<Figure size 432x288 with 1 Axes>"
      ]
     },
     "metadata": {
      "needs_background": "light"
     },
     "output_type": "display_data"
    }
   ],
   "source": [
    "clean_data.groupby(['Area Name']).filter(lambda x: x['Carcass Size'].count() > 1000\n",
    "                                        ).groupby(['Area Name'])['Carcass Size'].mean(\n",
    "                                        ).sort_values(ascending = False).plot(kind='bar', title='Average Carcass Size in Areas with more than 1000 catches')\n",
    "\n"
   ]
  },
  {
   "cell_type": "code",
   "execution_count": 68,
   "metadata": {},
   "outputs": [
    {
     "data": {
      "image/png": "[encoded data removed]",
      "text/plain": [
       "<Figure size 432x288 with 1 Axes>"
      ]
     },
     "metadata": {
      "needs_background": "light"
     },
     "output_type": "display_data"
    }
   ],
   "source": [
    "plot = sns.violinplot(x = clean_data['geography'], y = clean_data['Carcass Size'])\n",
    "\n",
    "plot.set_xticklabels(labels = geography_names,rotation = 90)\n",
    "\n",
    "plt.show()"
   ]
  },
  {
   "cell_type": "markdown",
   "metadata": {},
   "source": [
    "\n",
    "<p>What about if I want to look for some smaller Alligators to get my eye in first?</p>\n"
   ]
  },
  {
   "cell_type": "code",
   "execution_count": 62,
   "metadata": {},
   "outputs": [
    {
     "name": "stderr",
     "output_type": "stream",
     "text": [
      "/home/tms/anaconda3/lib/python3.7/site-packages/ipykernel_launcher.py:1: FutureWarning: using a dict on a Series for aggregation\n",
      "is deprecated and will be removed in a future version\n",
      "  \"\"\"Entry point for launching an IPython kernel.\n"
     ]
    },
    {
     "data": {
      "text/html": [
       "<div>\n",
       "<style scoped>\n",
       "    .dataframe tbody tr th:only-of-type {\n",
       "        vertical-align: middle;\n",
       "    }\n",
       "\n",
       "    .dataframe tbody tr th {\n",
       "        vertical-align: top;\n",
       "    }\n",
       "\n",
       "    .dataframe thead th {\n",
       "        text-align: right;\n",
       "    }\n",
       "</style>\n",
       "<table border=\"1\" class=\"dataframe\">\n",
       "  <thead>\n",
       "    <tr style=\"text-align: right;\">\n",
       "      <th></th>\n",
       "      <th>average size</th>\n",
       "    </tr>\n",
       "    <tr>\n",
       "      <th>Area Name</th>\n",
       "      <th></th>\n",
       "    </tr>\n",
       "  </thead>\n",
       "  <tbody>\n",
       "    <tr>\n",
       "      <th>BRADFORD COUNTY</th>\n",
       "      <td>2.168309</td>\n",
       "    </tr>\n",
       "    <tr>\n",
       "      <th>FRANKLIN</th>\n",
       "      <td>2.171700</td>\n",
       "    </tr>\n",
       "    <tr>\n",
       "      <th>BAKER COUNTY</th>\n",
       "      <td>2.225239</td>\n",
       "    </tr>\n",
       "    <tr>\n",
       "      <th>UNION COUNTY</th>\n",
       "      <td>2.236519</td>\n",
       "    </tr>\n",
       "    <tr>\n",
       "      <th>LAKE ROUSSEAU</th>\n",
       "      <td>2.245573</td>\n",
       "    </tr>\n",
       "    <tr>\n",
       "      <th>SUWANNEE COUNTY</th>\n",
       "      <td>2.249251</td>\n",
       "    </tr>\n",
       "    <tr>\n",
       "      <th>OKALOOSA COUNTY</th>\n",
       "      <td>2.251529</td>\n",
       "    </tr>\n",
       "    <tr>\n",
       "      <th>PEACE RIVER NORTH</th>\n",
       "      <td>2.257245</td>\n",
       "    </tr>\n",
       "    <tr>\n",
       "      <th>WASHINGTON COUNTY</th>\n",
       "      <td>2.275885</td>\n",
       "    </tr>\n",
       "    <tr>\n",
       "      <th>SANTA ROSA COUNTY</th>\n",
       "      <td>2.288073</td>\n",
       "    </tr>\n",
       "  </tbody>\n",
       "</table>\n",
       "</div>"
      ],
      "text/plain": [
       "                   average size\n",
       "Area Name                      \n",
       "BRADFORD COUNTY        2.168309\n",
       "FRANKLIN               2.171700\n",
       "BAKER COUNTY           2.225239\n",
       "UNION COUNTY           2.236519\n",
       "LAKE ROUSSEAU          2.245573\n",
       "SUWANNEE COUNTY        2.249251\n",
       "OKALOOSA COUNTY        2.251529\n",
       "PEACE RIVER NORTH      2.257245\n",
       "WASHINGTON COUNTY      2.275885\n",
       "SANTA ROSA COUNTY      2.288073"
      ]
     },
     "execution_count": 62,
     "metadata": {},
     "output_type": "execute_result"
    }
   ],
   "source": [
    "clean_data.groupby(['Area Name'])['Carcass Size'].agg({'average size': 'mean'}).sort_values(by='average size',ascending = True)[:10]\n",
    "\n"
   ]
  },
  {
   "cell_type": "code",
   "execution_count": 63,
   "metadata": {},
   "outputs": [
    {
     "name": "stdout",
     "output_type": "stream",
     "text": [
      "0.3048\n"
     ]
    },
    {
     "name": "stderr",
     "output_type": "stream",
     "text": [
      "/home/tms/anaconda3/lib/python3.7/site-packages/ipykernel_launcher.py:4: FutureWarning: using a dict on a Series for aggregation\n",
      "is deprecated and will be removed in a future version\n",
      "  after removing the cwd from sys.path.\n"
     ]
    },
    {
     "data": {
      "text/html": [
       "<div>\n",
       "<style scoped>\n",
       "    .dataframe tbody tr th:only-of-type {\n",
       "        vertical-align: middle;\n",
       "    }\n",
       "\n",
       "    .dataframe tbody tr th {\n",
       "        vertical-align: top;\n",
       "    }\n",
       "\n",
       "    .dataframe thead th {\n",
       "        text-align: right;\n",
       "    }\n",
       "</style>\n",
       "<table border=\"1\" class=\"dataframe\">\n",
       "  <thead>\n",
       "    <tr style=\"text-align: right;\">\n",
       "      <th></th>\n",
       "      <th>Number of catches less than 1m</th>\n",
       "    </tr>\n",
       "    <tr>\n",
       "      <th>Area Name</th>\n",
       "      <th></th>\n",
       "    </tr>\n",
       "  </thead>\n",
       "  <tbody>\n",
       "    <tr>\n",
       "      <th>ORANGE LAKE</th>\n",
       "      <td>23</td>\n",
       "    </tr>\n",
       "    <tr>\n",
       "      <th>KISSIMMEE RIVER</th>\n",
       "      <td>11</td>\n",
       "    </tr>\n",
       "    <tr>\n",
       "      <th>ST. JOHNS RIVER (PUZZLE LAKE)</th>\n",
       "      <td>10</td>\n",
       "    </tr>\n",
       "    <tr>\n",
       "      <th>LAKE OKEECHOBEE (SOUTH)</th>\n",
       "      <td>10</td>\n",
       "    </tr>\n",
       "    <tr>\n",
       "      <th>LAKE HARNEY</th>\n",
       "      <td>9</td>\n",
       "    </tr>\n",
       "    <tr>\n",
       "      <th>LOCHLOOSA LAKE</th>\n",
       "      <td>9</td>\n",
       "    </tr>\n",
       "    <tr>\n",
       "      <th>LAKE TOHOPEKALIGA</th>\n",
       "      <td>7</td>\n",
       "    </tr>\n",
       "    <tr>\n",
       "      <th>LAKE OKEECHOBEE (WEST)</th>\n",
       "      <td>6</td>\n",
       "    </tr>\n",
       "    <tr>\n",
       "      <th>LAKE HATCHINEHA</th>\n",
       "      <td>6</td>\n",
       "    </tr>\n",
       "    <tr>\n",
       "      <th>POLK COUNTY</th>\n",
       "      <td>6</td>\n",
       "    </tr>\n",
       "  </tbody>\n",
       "</table>\n",
       "</div>"
      ],
      "text/plain": [
       "                               Number of catches less than 1m\n",
       "Area Name                                                    \n",
       "ORANGE LAKE                                                23\n",
       "KISSIMMEE RIVER                                            11\n",
       "ST. JOHNS RIVER (PUZZLE LAKE)                              10\n",
       "LAKE OKEECHOBEE (SOUTH)                                    10\n",
       "LAKE HARNEY                                                 9\n",
       "LOCHLOOSA LAKE                                              9\n",
       "LAKE TOHOPEKALIGA                                           7\n",
       "LAKE OKEECHOBEE (WEST)                                      6\n",
       "LAKE HATCHINEHA                                             6\n",
       "POLK COUNTY                                                 6"
      ]
     },
     "execution_count": 63,
     "metadata": {},
     "output_type": "execute_result"
    }
   ],
   "source": [
    "print(clean_data['Carcass Size'].min())\n",
    "\n",
    "clean_data[clean_data['Carcass Size'] <= 1].groupby(['Area Name']\n",
    "                            )['Carcass Size'].agg({'Number of catches less than 1m':'count'}\n",
    "                            ).sort_values(by='Number of catches less than 1m',ascending = False)[:10]\n",
    "\n"
   ]
  },
  {
   "cell_type": "markdown",
   "metadata": {},
   "source": [
    "\n",
    "<p>So, if you're looking for some big gators, get down to Lake Jesup (biggest average catch) or Lake George (most catches above 4m), and if you want something smaller to start off with, get to Bradford County (smallest average catch) or Orange Lake (largest number of catches less than 1m)</p>\n"
   ]
  },
  {
   "cell_type": "markdown",
   "metadata": {},
   "source": [
    "\n",
    "<h1 id=\"Awwww,-SNAP...-That's-all-we've-got-time-for.-Catch-ya'\">Awwww, SNAP... That's all we've got time for. Catch ya'<a class=\"anchor-link\" href=\"#Awwww,-SNAP...-That's-all-we've-got-time-for.-Catch-ya'\">¶</a></h1>\n"
   ]
  },
  {
   "cell_type": "markdown",
   "metadata": {},
   "source": [
    "\n",
    "<p>Tom Merritt Smith 2017</p>\n",
    "<p>Newcastle-upon-Tyne, UK</p>\n",
    "<p>Get in touch: tmerrittsmith (at) gmail (dot) com</p>\n"
   ]
  },
  {
   "cell_type": "markdown",
   "metadata": {},
   "source": [
    "#### Postscript: March, 2019\n",
    "\n",
    "A few things I would do next time:\n",
    "\n",
    "- map some of this stuff\n",
    "- consider something like vega/altair to make interactive plots"
   ]
  }
 ],
 "metadata": {
  "kernelspec": {
   "display_name": "Python 3",
   "language": "python",
   "name": "python3"
  },
  "language_info": {
   "codemirror_mode": {
    "name": "ipython",
    "version": 3
   },
   "file_extension": ".py",
   "mimetype": "text/x-python",
   "name": "python",
   "nbconvert_exporter": "python",
   "pygments_lexer": "ipython3",
   "version": "3.7.1"
  }
 },
 "nbformat": 4,
 "nbformat_minor": 1
}
